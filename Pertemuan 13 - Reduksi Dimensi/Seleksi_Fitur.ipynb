{
  "nbformat": 4,
  "nbformat_minor": 0,
  "metadata": {
    "colab": {
      "name": "Reduksi Dimensi",
      "provenance": [],
      "collapsed_sections": []
    },
    "kernelspec": {
      "name": "python3",
      "display_name": "Python 3"
    },
    "language_info": {
      "name": "python"
    }
  },
  "cells": [
    {
      "cell_type": "markdown",
      "source": [
        "# **Latihan Forward Selection**"
      ],
      "metadata": {
        "id": "seKPa3DCzRoC"
      }
    },
    {
      "cell_type": "markdown",
      "source": [
        "Dengan menggunakan dataset iris, algoritma klasifikasi logistic regression, pembagian data train-test = 80-20, dan evaluasi berupa akurasi. Dilakukan seleksi fitur dengan forward selection :\n"
      ],
      "metadata": {
        "id": "8rjGzTQlzV2S"
      }
    },
    {
      "cell_type": "markdown",
      "source": [
        "Baca data iris yang akan digunakan"
      ],
      "metadata": {
        "id": "U0164HeyzZCH"
      }
    },
    {
      "cell_type": "code",
      "execution_count": 49,
      "metadata": {
        "id": "raExFWsXzJEU"
      },
      "outputs": [],
      "source": [
        "import pandas as pd\n",
        "\n",
        "# memberi nama variabel\n",
        "names = ['sepal-length', 'sepal-width', 'petal-length', 'petal-width', 'class']\n",
        "\n",
        "# membaca data dengan library pandas\n",
        "dataset = pd.read_csv('iris.data.csv', names=names)\n",
        "\n",
        "# memisahkan fitur dengan kelasnya\n",
        "df = dataset[['sepal-length', 'sepal-width', 'petal-length', 'petal-width']]\n",
        "target = dataset['class']"
      ]
    },
    {
      "cell_type": "code",
      "source": [
        "display(df)"
      ],
      "metadata": {
        "colab": {
          "base_uri": "https://localhost:8080/",
          "height": 424
        },
        "id": "9CD_Z7vbAT1K",
        "outputId": "b37afbbf-da4b-4849-a642-28e4f75deecc"
      },
      "execution_count": 50,
      "outputs": [
        {
          "output_type": "display_data",
          "data": {
            "text/plain": [
              "     sepal-length  sepal-width  petal-length  petal-width\n",
              "0             5.1          3.5           1.4          0.2\n",
              "1             4.9          3.0           1.4          0.2\n",
              "2             4.7          3.2           1.3          0.2\n",
              "3             4.6          3.1           1.5          0.2\n",
              "4             5.0          3.6           1.4          0.2\n",
              "..            ...          ...           ...          ...\n",
              "145           6.7          3.0           5.2          2.3\n",
              "146           6.3          2.5           5.0          1.9\n",
              "147           6.5          3.0           5.2          2.0\n",
              "148           6.2          3.4           5.4          2.3\n",
              "149           5.9          3.0           5.1          1.8\n",
              "\n",
              "[150 rows x 4 columns]"
            ],
            "text/html": [
              "\n",
              "  <div id=\"df-39d76563-e6e6-4507-a468-f807575e4108\">\n",
              "    <div class=\"colab-df-container\">\n",
              "      <div>\n",
              "<style scoped>\n",
              "    .dataframe tbody tr th:only-of-type {\n",
              "        vertical-align: middle;\n",
              "    }\n",
              "\n",
              "    .dataframe tbody tr th {\n",
              "        vertical-align: top;\n",
              "    }\n",
              "\n",
              "    .dataframe thead th {\n",
              "        text-align: right;\n",
              "    }\n",
              "</style>\n",
              "<table border=\"1\" class=\"dataframe\">\n",
              "  <thead>\n",
              "    <tr style=\"text-align: right;\">\n",
              "      <th></th>\n",
              "      <th>sepal-length</th>\n",
              "      <th>sepal-width</th>\n",
              "      <th>petal-length</th>\n",
              "      <th>petal-width</th>\n",
              "    </tr>\n",
              "  </thead>\n",
              "  <tbody>\n",
              "    <tr>\n",
              "      <th>0</th>\n",
              "      <td>5.1</td>\n",
              "      <td>3.5</td>\n",
              "      <td>1.4</td>\n",
              "      <td>0.2</td>\n",
              "    </tr>\n",
              "    <tr>\n",
              "      <th>1</th>\n",
              "      <td>4.9</td>\n",
              "      <td>3.0</td>\n",
              "      <td>1.4</td>\n",
              "      <td>0.2</td>\n",
              "    </tr>\n",
              "    <tr>\n",
              "      <th>2</th>\n",
              "      <td>4.7</td>\n",
              "      <td>3.2</td>\n",
              "      <td>1.3</td>\n",
              "      <td>0.2</td>\n",
              "    </tr>\n",
              "    <tr>\n",
              "      <th>3</th>\n",
              "      <td>4.6</td>\n",
              "      <td>3.1</td>\n",
              "      <td>1.5</td>\n",
              "      <td>0.2</td>\n",
              "    </tr>\n",
              "    <tr>\n",
              "      <th>4</th>\n",
              "      <td>5.0</td>\n",
              "      <td>3.6</td>\n",
              "      <td>1.4</td>\n",
              "      <td>0.2</td>\n",
              "    </tr>\n",
              "    <tr>\n",
              "      <th>...</th>\n",
              "      <td>...</td>\n",
              "      <td>...</td>\n",
              "      <td>...</td>\n",
              "      <td>...</td>\n",
              "    </tr>\n",
              "    <tr>\n",
              "      <th>145</th>\n",
              "      <td>6.7</td>\n",
              "      <td>3.0</td>\n",
              "      <td>5.2</td>\n",
              "      <td>2.3</td>\n",
              "    </tr>\n",
              "    <tr>\n",
              "      <th>146</th>\n",
              "      <td>6.3</td>\n",
              "      <td>2.5</td>\n",
              "      <td>5.0</td>\n",
              "      <td>1.9</td>\n",
              "    </tr>\n",
              "    <tr>\n",
              "      <th>147</th>\n",
              "      <td>6.5</td>\n",
              "      <td>3.0</td>\n",
              "      <td>5.2</td>\n",
              "      <td>2.0</td>\n",
              "    </tr>\n",
              "    <tr>\n",
              "      <th>148</th>\n",
              "      <td>6.2</td>\n",
              "      <td>3.4</td>\n",
              "      <td>5.4</td>\n",
              "      <td>2.3</td>\n",
              "    </tr>\n",
              "    <tr>\n",
              "      <th>149</th>\n",
              "      <td>5.9</td>\n",
              "      <td>3.0</td>\n",
              "      <td>5.1</td>\n",
              "      <td>1.8</td>\n",
              "    </tr>\n",
              "  </tbody>\n",
              "</table>\n",
              "<p>150 rows × 4 columns</p>\n",
              "</div>\n",
              "      <button class=\"colab-df-convert\" onclick=\"convertToInteractive('df-39d76563-e6e6-4507-a468-f807575e4108')\"\n",
              "              title=\"Convert this dataframe to an interactive table.\"\n",
              "              style=\"display:none;\">\n",
              "        \n",
              "  <svg xmlns=\"http://www.w3.org/2000/svg\" height=\"24px\"viewBox=\"0 0 24 24\"\n",
              "       width=\"24px\">\n",
              "    <path d=\"M0 0h24v24H0V0z\" fill=\"none\"/>\n",
              "    <path d=\"M18.56 5.44l.94 2.06.94-2.06 2.06-.94-2.06-.94-.94-2.06-.94 2.06-2.06.94zm-11 1L8.5 8.5l.94-2.06 2.06-.94-2.06-.94L8.5 2.5l-.94 2.06-2.06.94zm10 10l.94 2.06.94-2.06 2.06-.94-2.06-.94-.94-2.06-.94 2.06-2.06.94z\"/><path d=\"M17.41 7.96l-1.37-1.37c-.4-.4-.92-.59-1.43-.59-.52 0-1.04.2-1.43.59L10.3 9.45l-7.72 7.72c-.78.78-.78 2.05 0 2.83L4 21.41c.39.39.9.59 1.41.59.51 0 1.02-.2 1.41-.59l7.78-7.78 2.81-2.81c.8-.78.8-2.07 0-2.86zM5.41 20L4 18.59l7.72-7.72 1.47 1.35L5.41 20z\"/>\n",
              "  </svg>\n",
              "      </button>\n",
              "      \n",
              "  <style>\n",
              "    .colab-df-container {\n",
              "      display:flex;\n",
              "      flex-wrap:wrap;\n",
              "      gap: 12px;\n",
              "    }\n",
              "\n",
              "    .colab-df-convert {\n",
              "      background-color: #E8F0FE;\n",
              "      border: none;\n",
              "      border-radius: 50%;\n",
              "      cursor: pointer;\n",
              "      display: none;\n",
              "      fill: #1967D2;\n",
              "      height: 32px;\n",
              "      padding: 0 0 0 0;\n",
              "      width: 32px;\n",
              "    }\n",
              "\n",
              "    .colab-df-convert:hover {\n",
              "      background-color: #E2EBFA;\n",
              "      box-shadow: 0px 1px 2px rgba(60, 64, 67, 0.3), 0px 1px 3px 1px rgba(60, 64, 67, 0.15);\n",
              "      fill: #174EA6;\n",
              "    }\n",
              "\n",
              "    [theme=dark] .colab-df-convert {\n",
              "      background-color: #3B4455;\n",
              "      fill: #D2E3FC;\n",
              "    }\n",
              "\n",
              "    [theme=dark] .colab-df-convert:hover {\n",
              "      background-color: #434B5C;\n",
              "      box-shadow: 0px 1px 3px 1px rgba(0, 0, 0, 0.15);\n",
              "      filter: drop-shadow(0px 1px 2px rgba(0, 0, 0, 0.3));\n",
              "      fill: #FFFFFF;\n",
              "    }\n",
              "  </style>\n",
              "\n",
              "      <script>\n",
              "        const buttonEl =\n",
              "          document.querySelector('#df-39d76563-e6e6-4507-a468-f807575e4108 button.colab-df-convert');\n",
              "        buttonEl.style.display =\n",
              "          google.colab.kernel.accessAllowed ? 'block' : 'none';\n",
              "\n",
              "        async function convertToInteractive(key) {\n",
              "          const element = document.querySelector('#df-39d76563-e6e6-4507-a468-f807575e4108');\n",
              "          const dataTable =\n",
              "            await google.colab.kernel.invokeFunction('convertToInteractive',\n",
              "                                                     [key], {});\n",
              "          if (!dataTable) return;\n",
              "\n",
              "          const docLinkHtml = 'Like what you see? Visit the ' +\n",
              "            '<a target=\"_blank\" href=https://colab.research.google.com/notebooks/data_table.ipynb>data table notebook</a>'\n",
              "            + ' to learn more about interactive tables.';\n",
              "          element.innerHTML = '';\n",
              "          dataTable['output_type'] = 'display_data';\n",
              "          await google.colab.output.renderOutput(dataTable, element);\n",
              "          const docLink = document.createElement('div');\n",
              "          docLink.innerHTML = docLinkHtml;\n",
              "          element.appendChild(docLink);\n",
              "        }\n",
              "      </script>\n",
              "    </div>\n",
              "  </div>\n",
              "  "
            ]
          },
          "metadata": {}
        }
      ]
    },
    {
      "cell_type": "code",
      "source": [
        "df.dtypes"
      ],
      "metadata": {
        "colab": {
          "base_uri": "https://localhost:8080/"
        },
        "id": "1PA2quBS-0m8",
        "outputId": "25e1d1ac-f84c-42e0-a795-ba0371912ec9"
      },
      "execution_count": 51,
      "outputs": [
        {
          "output_type": "execute_result",
          "data": {
            "text/plain": [
              "sepal-length    float64\n",
              "sepal-width     float64\n",
              "petal-length    float64\n",
              "petal-width     float64\n",
              "dtype: object"
            ]
          },
          "metadata": {},
          "execution_count": 51
        }
      ]
    },
    {
      "cell_type": "markdown",
      "source": [
        "Definisikan model yang akan digunakan. Dalam latihan ini digunakan logistic regression dengan iterasi \n",
        "maksimum 1000"
      ],
      "metadata": {
        "id": "DGGN5aRy0nNg"
      }
    },
    {
      "cell_type": "code",
      "source": [
        "from sklearn.linear_model import LogisticRegression\n",
        "\n",
        "# Algoritma yang digunakan\n",
        "model = LogisticRegression(max_iter=1000)"
      ],
      "metadata": {
        "id": "nZGFsaiW1JYA"
      },
      "execution_count": 52,
      "outputs": []
    },
    {
      "cell_type": "markdown",
      "source": [
        "Bagi data untuk train dan test (validasi)"
      ],
      "metadata": {
        "id": "kt_rOnsn1XS3"
      }
    },
    {
      "cell_type": "code",
      "source": [
        "# bagi data test 20%, sisanya 80% untuk training\n",
        "from sklearn.model_selection import train_test_split\n",
        "x_train, x_test, y_train, y_test = train_test_split(df, target, test_size=0.2, random_state=5)"
      ],
      "metadata": {
        "id": "wYRaxpTW1ZNH"
      },
      "execution_count": 53,
      "outputs": []
    },
    {
      "cell_type": "markdown",
      "source": [
        "Hasil test akan di evaluasi dengan menghitung akurasi\n"
      ],
      "metadata": {
        "id": "7Pl5KzQw2iV-"
      }
    },
    {
      "cell_type": "code",
      "source": [
        "# akan di evaluasi dengan akurasi\n",
        "from sklearn.metrics import accuracy_score"
      ],
      "metadata": {
        "id": "fqJ0KKLb2mVr"
      },
      "execution_count": 54,
      "outputs": []
    },
    {
      "cell_type": "markdown",
      "source": [
        "Mari kita ke forward selection, pertama-tama kita inisiasi"
      ],
      "metadata": {
        "id": "hfg4Hjx82tol"
      }
    },
    {
      "cell_type": "code",
      "source": [
        "# inisiasi variable\n",
        "n = len(list(df)) # n = jumlah variabel\n",
        "i = 0 # untuk penanda saja (tidak masuk algo)\n",
        "feature_set = [] #inisiasi, fitur masih kosong"
      ],
      "metadata": {
        "id": "dcJgYLuS2z7I"
      },
      "execution_count": 55,
      "outputs": []
    },
    {
      "cell_type": "markdown",
      "source": [
        "Kemudian forward selection (dalam code ini, tidak dilakukan penghentian iterasi untuk menunjukkan proses dan output lengkap setiap iterasi) sbb "
      ],
      "metadata": {
        "id": "YhdkUx_c3Dtb"
      }
    },
    {
      "cell_type": "code",
      "source": [
        "for num_features in range(n):\n",
        "  #sekedar penanda iterasi\n",
        "  i = i+1\n",
        "  print('iterasi =', i)\n",
        "  #buat menyimpan percobaan sementara\n",
        "  metric_list = []\n",
        "  for feature in x_train.columns:\n",
        "    if feature not in feature_set:\n",
        "      f_set = feature_set.copy() #copy feature_set (supaya tidak berubah dulu feature_set nya)\n",
        "      f_set.append(feature) #tambahkan fitur\n",
        "      print(f_set)\n",
        "      model.fit(x_train[f_set],y_train) #bangun (train) model dan fitur yang telah ditambah\n",
        "      uji = model.predict(x_test[f_set]) #test model\n",
        "      akurasi = accuracy_score(y_test, uji) # hitung akurasi\n",
        "      print(akurasi)\n",
        "      metric_list.append((akurasi, feature)) #menyimpan data akurasi dan fitur yang digunakan\n",
        "\n",
        "  metric_list.sort(key=lambda x:x[0], reverse=True) #dengan kasus bahwa semakin besar akurasi semakin baik, sort yang terbesar\n",
        "  feature_set.append(metric_list[0][1]) #update feature set dengan menambahkan fitur dengan akurasi tertinggi(sorting teratas)\n",
        "\n"
      ],
      "metadata": {
        "colab": {
          "base_uri": "https://localhost:8080/"
        },
        "id": "DUd64qaV3FAJ",
        "outputId": "63568170-6d40-454c-e182-73e4c114224f"
      },
      "execution_count": 56,
      "outputs": [
        {
          "output_type": "stream",
          "name": "stdout",
          "text": [
            "iterasi = 1\n",
            "['sepal-length']\n",
            "0.7666666666666667\n",
            "['sepal-width']\n",
            "0.36666666666666664\n",
            "['petal-length']\n",
            "0.9666666666666667\n",
            "['petal-width']\n",
            "0.9\n",
            "iterasi = 2\n",
            "['petal-length', 'sepal-length']\n",
            "0.9333333333333333\n",
            "['petal-length', 'sepal-width']\n",
            "0.9666666666666667\n",
            "['petal-length', 'petal-width']\n",
            "0.9333333333333333\n",
            "iterasi = 3\n",
            "['petal-length', 'sepal-width', 'sepal-length']\n",
            "0.9666666666666667\n",
            "['petal-length', 'sepal-width', 'petal-width']\n",
            "0.9666666666666667\n",
            "iterasi = 4\n",
            "['petal-length', 'sepal-width', 'sepal-length', 'petal-width']\n",
            "0.9666666666666667\n"
          ]
        }
      ]
    },
    {
      "cell_type": "markdown",
      "source": [
        "Pada iterasi 1, dilakukan evaluasi terhadap 1 fitur: {sepal-length}, {sepal-width}, {petal-length}, dan {petal\u0002width}. Diperoleh akurasi tertinggi adalah menggunakan fitur {petal-length} dengan akurasi = 1 (100%).\n",
        "\n",
        "Sehingga, iterasi kedua akan menggunakan kombinasi {petal-length} di tambah fitur lain \n",
        "\n",
        "Pada iterasi kedua, petal-length di tambah fitur lain, sehingga diperoleh kombinasi: {petal-length, sepal\u0002length}, {petal-length, sepal-width} dan {petal-length, petal-width}. Diperoleh akurasi tertinggi dengan \n",
        "menggunakan {petal-length, sepal-length} dengan akurasi = 1 (100%). \n",
        "\n",
        "Sehingga, iterasi ketiga akan menggunakan kombinasi fitur {petal-length, sepal-length} di tambah 1 fitur lainnya.\n",
        "\n",
        "Pada iterasi ketiga, diperoleh kombinasi fitur {petal-length, sepal-length, sepal-width} dan {petal-length, sepal-length, petal-width} dan akurasi tertinggi dicapai dengan kombinasi fitur {petal-length, sepal-length, sepal-width} dengan akurasi =1 (100%)\n",
        "\n",
        "Iterasi berikutnya merupakan full fitur (tidak di reduksi).\n"
      ],
      "metadata": {
        "id": "5WFwuP9gCjC4"
      }
    },
    {
      "cell_type": "markdown",
      "source": [
        "Soal Forward Selection: \n",
        "\n",
        "Dari hasil forward selection tersebut, dengan eksperimen menggunakan dataset iris, algoritma klasifikasi logistic regression, pembagian data train-test = 80-20. \n",
        "\n",
        "a. Berapa fitur yang dapat kita pakai? Fitur apa sajakah itu?\n",
        "\n",
        "b. Coba klasifikasikan data iris tersebut dengan fitur yang Anda sebutkan di poin a\n",
        "\n",
        "c. Bandingkan waktu komputasi dengan menggunakan seluruh fitur dengan klasifikasi pada poin b!"
      ],
      "metadata": {
        "id": "L676U0CxC8Sp"
      }
    },
    {
      "cell_type": "markdown",
      "source": [
        "# **Latihan Backward Selection**"
      ],
      "metadata": {
        "id": "YL55aFAHDC6T"
      }
    },
    {
      "cell_type": "markdown",
      "source": [
        "Dengan kasus yang sama, dan proses awal yang sama.. berikut code untuk backward selection (tanpa menerapkan kriteria penghentian iterasi/ di iterasi sampai akhir)\n",
        "\n",
        "Pertama kita inisiasi fitur awal, dimana semua fitur digunakan"
      ],
      "metadata": {
        "id": "JM-q9DYvDGGt"
      }
    },
    {
      "cell_type": "code",
      "source": [
        "i = 0 #untuk index penanda saja (tidak masuk algo)\n",
        "feature_set = list(df.columns) #inisiasi, fitur lengkap"
      ],
      "metadata": {
        "id": "XT8Z-29PDMG6"
      },
      "execution_count": 57,
      "outputs": []
    },
    {
      "cell_type": "markdown",
      "source": [
        "Kemudian backward selection (dalam code ini, tidak dilakukan penghentian iterasi untuk menunjukkan proses dan output lengkap setiap iterasi) sbb :\n"
      ],
      "metadata": {
        "id": "x9xkEg8LDfSy"
      }
    },
    {
      "cell_type": "code",
      "source": [
        "while (len(feature_set)>1):\n",
        "  #sekedar penanda iterasi\n",
        "  i = i+1\n",
        "  print('iterasi =', i)\n",
        "  #buat menyimpan percobaan sementara\n",
        "  metric_list = []\n",
        "  for feature in x_train.columns:\n",
        "    if feature in feature_set:\n",
        "      f_set = feature_set.copy() #copy feature_set (supaya tidak berubah dulu feature_set nya)\n",
        "      f_set.remove(feature) #tambahkan fitur\n",
        "      print(f_set)\n",
        "      model.fit(x_train[f_set],y_train) #bangun (train) model dan fitur yang telah ditambah\n",
        "      uji = model.predict(x_test[f_set]) #test model\n",
        "      akurasi = accuracy_score(y_test, uji) # hitung akurasi\n",
        "      print(akurasi)\n",
        "      metric_list.append((akurasi, feature)) #menyimpan data akurasi dan fitur yang digunakan\n",
        "\n",
        "  metric_list.sort(key=lambda x:x[0], reverse=True) #dengan kasus bahwa semakin besar akurasi semakin baik, sort yang terbesar\n",
        "  feature_set.remove(metric_list[0][1]) #update feature set dengan menambahkan fitur dengan akurasi tertinggi(sorting teratas)\n"
      ],
      "metadata": {
        "colab": {
          "base_uri": "https://localhost:8080/"
        },
        "id": "rfD1uk4UDiTO",
        "outputId": "53b342e3-f84b-40eb-f0e0-fafe09f1b7d1"
      },
      "execution_count": 59,
      "outputs": [
        {
          "output_type": "stream",
          "name": "stdout",
          "text": [
            "iterasi = 2\n",
            "['sepal-width', 'petal-length', 'petal-width']\n",
            "0.9666666666666667\n",
            "['sepal-length', 'petal-length', 'petal-width']\n",
            "0.9666666666666667\n",
            "['sepal-length', 'sepal-width', 'petal-width']\n",
            "0.9\n",
            "['sepal-length', 'sepal-width', 'petal-length']\n",
            "0.9666666666666667\n",
            "iterasi = 3\n",
            "['petal-length', 'petal-width']\n",
            "0.9333333333333333\n",
            "['sepal-width', 'petal-width']\n",
            "0.9\n",
            "['sepal-width', 'petal-length']\n",
            "0.9666666666666667\n",
            "iterasi = 4\n",
            "['petal-length']\n",
            "0.9666666666666667\n",
            "['sepal-width']\n",
            "0.36666666666666664\n"
          ]
        }
      ]
    },
    {
      "cell_type": "markdown",
      "source": [
        "Inisiasi adalah seuruh fitur : {sepal-length, sepal-width, petal-length, petal-width}\n",
        "\n",
        "Pada iterasi 1, dilakukan penghapusan 1 fitur secara bergantian sehingga dilakukan evaluasi akrasi untuk penggunaan fitur-fitur sbb : , {sepal-width, petal-length, petal-width}, {sepal-length, petal-length, petal\u0002width}, {sepal-length, sepal-width, petal-width}, {sepal-length, sepal-width, petal-length} dan diperoleh hasil akurasi tertinggi dengan kombinasi fitur {sepal-length, sepal-width, petal-length} dengan akurasi =1 (100%). \n",
        "\n",
        "Maka pada iterasi selanjutnya akan menggunakan fitur-fitur ini.\n",
        "\n",
        "Pada ietrasi 2, dilakukan penghapusan fitur secara bergantian pada {sepal-length, sepal-width, petal-length} dan di evaluasi performanya, di peroleh kombinasi fitur : {sepal-width, petal-length}, {sepal-length, petal\u0002length}, {sepal-length, sepal-width} dengan akurasi tertinggi menggunakan fitur {sepal-length, petal-length} dengan akurasi = 1( 100%). \n",
        "\n",
        "Maka pada iterasi berikutnya akan memproses fitur-fitur ini.\n",
        "\n",
        "Pada iterasi 3, dilakukan penghapusan secara bergantian pada fitur {sepal-length, petal-length}, sehingga diperoleh fitur untuk evaluasi : {sepal-length}, {petal-length}. Setelah dilakukan trainng dan testing ternyata diperoleh akurasi tertinggi menggunakan fitur {petal-length} dengan akurasi =1 (100%).\n"
      ],
      "metadata": {
        "id": "aMRdbMclEQ3h"
      }
    },
    {
      "cell_type": "markdown",
      "source": [
        "Soal Backward Selection: \n",
        "\n",
        "Dari hasil backwar selection tersebut, dengan eksperimen menggunakan dataset iris, algoritma klasifikasi logistic regression, pembagian data train-test = 80-20. \n",
        "\n",
        "a. Berapa fitur yang dapat kita pakai? Fitur apa sajakah itu?\n",
        "\n",
        "b. Coba klasifikasikan data iris tersebut dengan fitur yang Anda sebutkan di poin a\n",
        "\n",
        "c. Bandingkan waktu komputasi dengan menggunakan seluruh fitur dengan klasifikasi pada poin b"
      ],
      "metadata": {
        "id": "hsQtNlXXEinn"
      }
    }
  ]
}