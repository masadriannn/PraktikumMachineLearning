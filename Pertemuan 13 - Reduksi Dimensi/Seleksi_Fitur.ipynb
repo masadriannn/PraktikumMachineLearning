{
  "nbformat": 4,
  "nbformat_minor": 0,
  "metadata": {
    "colab": {
      "name": "Reduksi Dimensi",
      "provenance": [],
      "collapsed_sections": []
    },
    "kernelspec": {
      "name": "python3",
      "display_name": "Python 3"
    },
    "language_info": {
      "name": "python"
    }
  },
  "cells": [
    {
      "cell_type": "markdown",
      "source": [
        "# **Latihan Forward Selection**"
      ],
      "metadata": {
        "id": "seKPa3DCzRoC"
      }
    },
    {
      "cell_type": "markdown",
      "source": [
        "Dengan menggunakan dataset iris, algoritma klasifikasi logistic regression, pembagian data train-test = 80-20, dan evaluasi berupa akurasi. Dilakukan seleksi fitur dengan forward selection :\n"
      ],
      "metadata": {
        "id": "8rjGzTQlzV2S"
      }
    },
    {
      "cell_type": "markdown",
      "source": [
        "Baca data iris yang akan digunakan"
      ],
      "metadata": {
        "id": "U0164HeyzZCH"
      }
    },
    {
      "cell_type": "code",
      "execution_count": 32,
      "metadata": {
        "id": "raExFWsXzJEU"
      },
      "outputs": [],
      "source": [
        "import pandas as pd\n",
        "\n",
        "# memberi nama variabel\n",
        "names = ['sepal-length', 'sepal-width', 'petal-length', 'petal-width', 'class']\n",
        "\n",
        "# membaca data dengan library pandas\n",
        "dataset = pd.read_csv('Iris.csv', names=names)\n",
        "\n",
        "# memisahkan fitur dengan kelasnya\n",
        "df = dataset[['sepal-length', 'sepal-width', 'petal-length', 'petal-width']]\n",
        "target = dataset['class']"
      ]
    },
    {
      "cell_type": "code",
      "source": [
        "display(df)"
      ],
      "metadata": {
        "colab": {
          "base_uri": "https://localhost:8080/",
          "height": 424
        },
        "id": "9CD_Z7vbAT1K",
        "outputId": "7122c947-b992-41e3-8c77-9bf7161a34b2"
      },
      "execution_count": 33,
      "outputs": [
        {
          "output_type": "display_data",
          "data": {
            "text/plain": [
              "      sepal-length   sepal-width   petal-length   petal-width\n",
              "Id   SepalLengthCm  SepalWidthCm  PetalLengthCm  PetalWidthCm\n",
              "1              5.1           3.5            1.4           0.2\n",
              "2              4.9           3.0            1.4           0.2\n",
              "3              4.7           3.2            1.3           0.2\n",
              "4              4.6           3.1            1.5           0.2\n",
              "..             ...           ...            ...           ...\n",
              "146            6.7           3.0            5.2           2.3\n",
              "147            6.3           2.5            5.0           1.9\n",
              "148            6.5           3.0            5.2           2.0\n",
              "149            6.2           3.4            5.4           2.3\n",
              "150            5.9           3.0            5.1           1.8\n",
              "\n",
              "[151 rows x 4 columns]"
            ],
            "text/html": [
              "\n",
              "  <div id=\"df-4286a474-2f01-4c9c-a671-d1654b4c2437\">\n",
              "    <div class=\"colab-df-container\">\n",
              "      <div>\n",
              "<style scoped>\n",
              "    .dataframe tbody tr th:only-of-type {\n",
              "        vertical-align: middle;\n",
              "    }\n",
              "\n",
              "    .dataframe tbody tr th {\n",
              "        vertical-align: top;\n",
              "    }\n",
              "\n",
              "    .dataframe thead th {\n",
              "        text-align: right;\n",
              "    }\n",
              "</style>\n",
              "<table border=\"1\" class=\"dataframe\">\n",
              "  <thead>\n",
              "    <tr style=\"text-align: right;\">\n",
              "      <th></th>\n",
              "      <th>sepal-length</th>\n",
              "      <th>sepal-width</th>\n",
              "      <th>petal-length</th>\n",
              "      <th>petal-width</th>\n",
              "    </tr>\n",
              "  </thead>\n",
              "  <tbody>\n",
              "    <tr>\n",
              "      <th>Id</th>\n",
              "      <td>SepalLengthCm</td>\n",
              "      <td>SepalWidthCm</td>\n",
              "      <td>PetalLengthCm</td>\n",
              "      <td>PetalWidthCm</td>\n",
              "    </tr>\n",
              "    <tr>\n",
              "      <th>1</th>\n",
              "      <td>5.1</td>\n",
              "      <td>3.5</td>\n",
              "      <td>1.4</td>\n",
              "      <td>0.2</td>\n",
              "    </tr>\n",
              "    <tr>\n",
              "      <th>2</th>\n",
              "      <td>4.9</td>\n",
              "      <td>3.0</td>\n",
              "      <td>1.4</td>\n",
              "      <td>0.2</td>\n",
              "    </tr>\n",
              "    <tr>\n",
              "      <th>3</th>\n",
              "      <td>4.7</td>\n",
              "      <td>3.2</td>\n",
              "      <td>1.3</td>\n",
              "      <td>0.2</td>\n",
              "    </tr>\n",
              "    <tr>\n",
              "      <th>4</th>\n",
              "      <td>4.6</td>\n",
              "      <td>3.1</td>\n",
              "      <td>1.5</td>\n",
              "      <td>0.2</td>\n",
              "    </tr>\n",
              "    <tr>\n",
              "      <th>...</th>\n",
              "      <td>...</td>\n",
              "      <td>...</td>\n",
              "      <td>...</td>\n",
              "      <td>...</td>\n",
              "    </tr>\n",
              "    <tr>\n",
              "      <th>146</th>\n",
              "      <td>6.7</td>\n",
              "      <td>3.0</td>\n",
              "      <td>5.2</td>\n",
              "      <td>2.3</td>\n",
              "    </tr>\n",
              "    <tr>\n",
              "      <th>147</th>\n",
              "      <td>6.3</td>\n",
              "      <td>2.5</td>\n",
              "      <td>5.0</td>\n",
              "      <td>1.9</td>\n",
              "    </tr>\n",
              "    <tr>\n",
              "      <th>148</th>\n",
              "      <td>6.5</td>\n",
              "      <td>3.0</td>\n",
              "      <td>5.2</td>\n",
              "      <td>2.0</td>\n",
              "    </tr>\n",
              "    <tr>\n",
              "      <th>149</th>\n",
              "      <td>6.2</td>\n",
              "      <td>3.4</td>\n",
              "      <td>5.4</td>\n",
              "      <td>2.3</td>\n",
              "    </tr>\n",
              "    <tr>\n",
              "      <th>150</th>\n",
              "      <td>5.9</td>\n",
              "      <td>3.0</td>\n",
              "      <td>5.1</td>\n",
              "      <td>1.8</td>\n",
              "    </tr>\n",
              "  </tbody>\n",
              "</table>\n",
              "<p>151 rows × 4 columns</p>\n",
              "</div>\n",
              "      <button class=\"colab-df-convert\" onclick=\"convertToInteractive('df-4286a474-2f01-4c9c-a671-d1654b4c2437')\"\n",
              "              title=\"Convert this dataframe to an interactive table.\"\n",
              "              style=\"display:none;\">\n",
              "        \n",
              "  <svg xmlns=\"http://www.w3.org/2000/svg\" height=\"24px\"viewBox=\"0 0 24 24\"\n",
              "       width=\"24px\">\n",
              "    <path d=\"M0 0h24v24H0V0z\" fill=\"none\"/>\n",
              "    <path d=\"M18.56 5.44l.94 2.06.94-2.06 2.06-.94-2.06-.94-.94-2.06-.94 2.06-2.06.94zm-11 1L8.5 8.5l.94-2.06 2.06-.94-2.06-.94L8.5 2.5l-.94 2.06-2.06.94zm10 10l.94 2.06.94-2.06 2.06-.94-2.06-.94-.94-2.06-.94 2.06-2.06.94z\"/><path d=\"M17.41 7.96l-1.37-1.37c-.4-.4-.92-.59-1.43-.59-.52 0-1.04.2-1.43.59L10.3 9.45l-7.72 7.72c-.78.78-.78 2.05 0 2.83L4 21.41c.39.39.9.59 1.41.59.51 0 1.02-.2 1.41-.59l7.78-7.78 2.81-2.81c.8-.78.8-2.07 0-2.86zM5.41 20L4 18.59l7.72-7.72 1.47 1.35L5.41 20z\"/>\n",
              "  </svg>\n",
              "      </button>\n",
              "      \n",
              "  <style>\n",
              "    .colab-df-container {\n",
              "      display:flex;\n",
              "      flex-wrap:wrap;\n",
              "      gap: 12px;\n",
              "    }\n",
              "\n",
              "    .colab-df-convert {\n",
              "      background-color: #E8F0FE;\n",
              "      border: none;\n",
              "      border-radius: 50%;\n",
              "      cursor: pointer;\n",
              "      display: none;\n",
              "      fill: #1967D2;\n",
              "      height: 32px;\n",
              "      padding: 0 0 0 0;\n",
              "      width: 32px;\n",
              "    }\n",
              "\n",
              "    .colab-df-convert:hover {\n",
              "      background-color: #E2EBFA;\n",
              "      box-shadow: 0px 1px 2px rgba(60, 64, 67, 0.3), 0px 1px 3px 1px rgba(60, 64, 67, 0.15);\n",
              "      fill: #174EA6;\n",
              "    }\n",
              "\n",
              "    [theme=dark] .colab-df-convert {\n",
              "      background-color: #3B4455;\n",
              "      fill: #D2E3FC;\n",
              "    }\n",
              "\n",
              "    [theme=dark] .colab-df-convert:hover {\n",
              "      background-color: #434B5C;\n",
              "      box-shadow: 0px 1px 3px 1px rgba(0, 0, 0, 0.15);\n",
              "      filter: drop-shadow(0px 1px 2px rgba(0, 0, 0, 0.3));\n",
              "      fill: #FFFFFF;\n",
              "    }\n",
              "  </style>\n",
              "\n",
              "      <script>\n",
              "        const buttonEl =\n",
              "          document.querySelector('#df-4286a474-2f01-4c9c-a671-d1654b4c2437 button.colab-df-convert');\n",
              "        buttonEl.style.display =\n",
              "          google.colab.kernel.accessAllowed ? 'block' : 'none';\n",
              "\n",
              "        async function convertToInteractive(key) {\n",
              "          const element = document.querySelector('#df-4286a474-2f01-4c9c-a671-d1654b4c2437');\n",
              "          const dataTable =\n",
              "            await google.colab.kernel.invokeFunction('convertToInteractive',\n",
              "                                                     [key], {});\n",
              "          if (!dataTable) return;\n",
              "\n",
              "          const docLinkHtml = 'Like what you see? Visit the ' +\n",
              "            '<a target=\"_blank\" href=https://colab.research.google.com/notebooks/data_table.ipynb>data table notebook</a>'\n",
              "            + ' to learn more about interactive tables.';\n",
              "          element.innerHTML = '';\n",
              "          dataTable['output_type'] = 'display_data';\n",
              "          await google.colab.output.renderOutput(dataTable, element);\n",
              "          const docLink = document.createElement('div');\n",
              "          docLink.innerHTML = docLinkHtml;\n",
              "          element.appendChild(docLink);\n",
              "        }\n",
              "      </script>\n",
              "    </div>\n",
              "  </div>\n",
              "  "
            ]
          },
          "metadata": {}
        }
      ]
    },
    {
      "cell_type": "code",
      "source": [
        "df.dtypes"
      ],
      "metadata": {
        "colab": {
          "base_uri": "https://localhost:8080/"
        },
        "id": "1PA2quBS-0m8",
        "outputId": "dc67d372-d2c2-41f8-f7fc-5eee7e6c7148"
      },
      "execution_count": 34,
      "outputs": [
        {
          "output_type": "execute_result",
          "data": {
            "text/plain": [
              "sepal-length    object\n",
              "sepal-width     object\n",
              "petal-length    object\n",
              "petal-width     object\n",
              "dtype: object"
            ]
          },
          "metadata": {},
          "execution_count": 34
        }
      ]
    },
    {
      "cell_type": "markdown",
      "source": [
        "Definisikan model yang akan digunakan. Dalam latihan ini digunakan logistic regression dengan iterasi \n",
        "maksimum 1000"
      ],
      "metadata": {
        "id": "DGGN5aRy0nNg"
      }
    },
    {
      "cell_type": "code",
      "source": [
        "from sklearn.linear_model import LogisticRegression\n",
        "\n",
        "# Algoritma yang digunakan\n",
        "model = LogisticRegression(max_iter=1000)"
      ],
      "metadata": {
        "id": "nZGFsaiW1JYA"
      },
      "execution_count": 35,
      "outputs": []
    },
    {
      "cell_type": "markdown",
      "source": [
        "Bagi data untuk train dan test (validasi)"
      ],
      "metadata": {
        "id": "kt_rOnsn1XS3"
      }
    },
    {
      "cell_type": "code",
      "source": [
        "# bagi data test 20%, sisanya 80% untuk training\n",
        "from sklearn.model_selection import train_test_split\n",
        "x_train, x_test, y_train, y_test = train_test_split(df, target, test_size=0.2, random_state=5)"
      ],
      "metadata": {
        "id": "wYRaxpTW1ZNH"
      },
      "execution_count": 36,
      "outputs": []
    },
    {
      "cell_type": "markdown",
      "source": [
        "Hasil test akan di evaluasi dengan menghitung akurasi\n"
      ],
      "metadata": {
        "id": "7Pl5KzQw2iV-"
      }
    },
    {
      "cell_type": "code",
      "source": [
        "# akan di evaluasi dengan akurasi\n",
        "from sklearn.metrics import accuracy_score"
      ],
      "metadata": {
        "id": "fqJ0KKLb2mVr"
      },
      "execution_count": 37,
      "outputs": []
    },
    {
      "cell_type": "markdown",
      "source": [
        "Mari kita ke forward selection, pertama-tama kita inisiasi"
      ],
      "metadata": {
        "id": "hfg4Hjx82tol"
      }
    },
    {
      "cell_type": "code",
      "source": [
        "# inisiasi variable\n",
        "n = len(list(df)) # n = jumlah variabel\n",
        "i = 0 # untuk penanda saja (tidak masuk algo)\n",
        "feature_set = [] #inisiasi, fitur masih kosong"
      ],
      "metadata": {
        "id": "dcJgYLuS2z7I"
      },
      "execution_count": 38,
      "outputs": []
    },
    {
      "cell_type": "markdown",
      "source": [
        "Kemudian forward selection (dalam code ini, tidak dilakukan penghentian iterasi untuk menunjukkan proses dan output lengkap setiap iterasi) sbb "
      ],
      "metadata": {
        "id": "YhdkUx_c3Dtb"
      }
    },
    {
      "cell_type": "code",
      "source": [
        "for num_features in range(n):\n",
        "  #sekedar penanda iterasi\n",
        "  i = i+1\n",
        "  print('iterasi =', i)\n",
        "  #buat menyimpan percobaan sementara\n",
        "  metric_list = []\n",
        "  for feature in x_train.columns:\n",
        "    if feature not in feature_set:\n",
        "      f_set = feature_set.copy() #copy feature_set (supaya tidak berubah dulu feature_set nya)\n",
        "      f_set.append(feature) #tambahkan fitur\n",
        "      print(f_set)\n",
        "      model.fit(x_train[f_set],y_train) #bangun (train) model dan fitur yang telah ditambah\n",
        "      uji = model.predict(x_test[f_set]) #test model\n",
        "      akurasi = accuracy_score(y_test, uji) # hitung akurasi\n",
        "      print(akurasi)\n",
        "      metric_list.append((akurasi, feature)) #menyimpan data akurasi dan fitur yang digunakan\n",
        "\n",
        "  metric_list.sort(key=lambda x:x[0], reverse=True) #dengan kasus bahwa semakin besar akurasi semakin baik, sort yang terbesar\n",
        "  feature_set.append(metric_list[0][1]) #update feature set dengan menambahkan fitur dengan akurasi tertinggi(sorting teratas)\n",
        "\n"
      ],
      "metadata": {
        "colab": {
          "base_uri": "https://localhost:8080/",
          "height": 415
        },
        "id": "DUd64qaV3FAJ",
        "outputId": "488ac90c-227f-46dc-b2af-166cc0b12dce"
      },
      "execution_count": 39,
      "outputs": [
        {
          "output_type": "stream",
          "name": "stdout",
          "text": [
            "iterasi = 1\n",
            "['sepal-length']\n"
          ]
        },
        {
          "output_type": "error",
          "ename": "ValueError",
          "evalue": "ignored",
          "traceback": [
            "\u001b[0;31m---------------------------------------------------------------------------\u001b[0m",
            "\u001b[0;31mValueError\u001b[0m                                Traceback (most recent call last)",
            "\u001b[0;32m<ipython-input-39-601896a6b1fc>\u001b[0m in \u001b[0;36m<module>\u001b[0;34m()\u001b[0m\n\u001b[1;32m     10\u001b[0m       \u001b[0mf_set\u001b[0m\u001b[0;34m.\u001b[0m\u001b[0mappend\u001b[0m\u001b[0;34m(\u001b[0m\u001b[0mfeature\u001b[0m\u001b[0;34m)\u001b[0m \u001b[0;31m#tambahkan fitur\u001b[0m\u001b[0;34m\u001b[0m\u001b[0;34m\u001b[0m\u001b[0m\n\u001b[1;32m     11\u001b[0m       \u001b[0mprint\u001b[0m\u001b[0;34m(\u001b[0m\u001b[0mf_set\u001b[0m\u001b[0;34m)\u001b[0m\u001b[0;34m\u001b[0m\u001b[0;34m\u001b[0m\u001b[0m\n\u001b[0;32m---> 12\u001b[0;31m       \u001b[0mmodel\u001b[0m\u001b[0;34m.\u001b[0m\u001b[0mfit\u001b[0m\u001b[0;34m(\u001b[0m\u001b[0mx_train\u001b[0m\u001b[0;34m[\u001b[0m\u001b[0mf_set\u001b[0m\u001b[0;34m]\u001b[0m\u001b[0;34m,\u001b[0m\u001b[0my_train\u001b[0m\u001b[0;34m)\u001b[0m \u001b[0;31m#bangun (train) model dan fitur yang telah ditambah\u001b[0m\u001b[0;34m\u001b[0m\u001b[0;34m\u001b[0m\u001b[0m\n\u001b[0m\u001b[1;32m     13\u001b[0m       \u001b[0muji\u001b[0m \u001b[0;34m=\u001b[0m \u001b[0mmodel\u001b[0m\u001b[0;34m.\u001b[0m\u001b[0mpredict\u001b[0m\u001b[0;34m(\u001b[0m\u001b[0mx_test\u001b[0m\u001b[0;34m[\u001b[0m\u001b[0mf_set\u001b[0m\u001b[0;34m]\u001b[0m\u001b[0;34m)\u001b[0m \u001b[0;31m#test model\u001b[0m\u001b[0;34m\u001b[0m\u001b[0;34m\u001b[0m\u001b[0m\n\u001b[1;32m     14\u001b[0m       \u001b[0makurasi\u001b[0m \u001b[0;34m=\u001b[0m \u001b[0maccuracy_score\u001b[0m\u001b[0;34m(\u001b[0m\u001b[0my_test\u001b[0m\u001b[0;34m,\u001b[0m \u001b[0muji\u001b[0m\u001b[0;34m)\u001b[0m \u001b[0;31m# hitung akurasi\u001b[0m\u001b[0;34m\u001b[0m\u001b[0;34m\u001b[0m\u001b[0m\n",
            "\u001b[0;32m/usr/local/lib/python3.7/dist-packages/sklearn/linear_model/_logistic.py\u001b[0m in \u001b[0;36mfit\u001b[0;34m(self, X, y, sample_weight)\u001b[0m\n\u001b[1;32m   1512\u001b[0m             \u001b[0mdtype\u001b[0m\u001b[0;34m=\u001b[0m\u001b[0m_dtype\u001b[0m\u001b[0;34m,\u001b[0m\u001b[0;34m\u001b[0m\u001b[0;34m\u001b[0m\u001b[0m\n\u001b[1;32m   1513\u001b[0m             \u001b[0morder\u001b[0m\u001b[0;34m=\u001b[0m\u001b[0;34m\"C\"\u001b[0m\u001b[0;34m,\u001b[0m\u001b[0;34m\u001b[0m\u001b[0;34m\u001b[0m\u001b[0m\n\u001b[0;32m-> 1514\u001b[0;31m             \u001b[0maccept_large_sparse\u001b[0m\u001b[0;34m=\u001b[0m\u001b[0msolver\u001b[0m \u001b[0;32mnot\u001b[0m \u001b[0;32min\u001b[0m \u001b[0;34m[\u001b[0m\u001b[0;34m\"liblinear\"\u001b[0m\u001b[0;34m,\u001b[0m \u001b[0;34m\"sag\"\u001b[0m\u001b[0;34m,\u001b[0m \u001b[0;34m\"saga\"\u001b[0m\u001b[0;34m]\u001b[0m\u001b[0;34m,\u001b[0m\u001b[0;34m\u001b[0m\u001b[0;34m\u001b[0m\u001b[0m\n\u001b[0m\u001b[1;32m   1515\u001b[0m         )\n\u001b[1;32m   1516\u001b[0m         \u001b[0mcheck_classification_targets\u001b[0m\u001b[0;34m(\u001b[0m\u001b[0my\u001b[0m\u001b[0;34m)\u001b[0m\u001b[0;34m\u001b[0m\u001b[0;34m\u001b[0m\u001b[0m\n",
            "\u001b[0;32m/usr/local/lib/python3.7/dist-packages/sklearn/base.py\u001b[0m in \u001b[0;36m_validate_data\u001b[0;34m(self, X, y, reset, validate_separately, **check_params)\u001b[0m\n\u001b[1;32m    579\u001b[0m                 \u001b[0my\u001b[0m \u001b[0;34m=\u001b[0m \u001b[0mcheck_array\u001b[0m\u001b[0;34m(\u001b[0m\u001b[0my\u001b[0m\u001b[0;34m,\u001b[0m \u001b[0;34m**\u001b[0m\u001b[0mcheck_y_params\u001b[0m\u001b[0;34m)\u001b[0m\u001b[0;34m\u001b[0m\u001b[0;34m\u001b[0m\u001b[0m\n\u001b[1;32m    580\u001b[0m             \u001b[0;32melse\u001b[0m\u001b[0;34m:\u001b[0m\u001b[0;34m\u001b[0m\u001b[0;34m\u001b[0m\u001b[0m\n\u001b[0;32m--> 581\u001b[0;31m                 \u001b[0mX\u001b[0m\u001b[0;34m,\u001b[0m \u001b[0my\u001b[0m \u001b[0;34m=\u001b[0m \u001b[0mcheck_X_y\u001b[0m\u001b[0;34m(\u001b[0m\u001b[0mX\u001b[0m\u001b[0;34m,\u001b[0m \u001b[0my\u001b[0m\u001b[0;34m,\u001b[0m \u001b[0;34m**\u001b[0m\u001b[0mcheck_params\u001b[0m\u001b[0;34m)\u001b[0m\u001b[0;34m\u001b[0m\u001b[0;34m\u001b[0m\u001b[0m\n\u001b[0m\u001b[1;32m    582\u001b[0m             \u001b[0mout\u001b[0m \u001b[0;34m=\u001b[0m \u001b[0mX\u001b[0m\u001b[0;34m,\u001b[0m \u001b[0my\u001b[0m\u001b[0;34m\u001b[0m\u001b[0;34m\u001b[0m\u001b[0m\n\u001b[1;32m    583\u001b[0m \u001b[0;34m\u001b[0m\u001b[0m\n",
            "\u001b[0;32m/usr/local/lib/python3.7/dist-packages/sklearn/utils/validation.py\u001b[0m in \u001b[0;36mcheck_X_y\u001b[0;34m(X, y, accept_sparse, accept_large_sparse, dtype, order, copy, force_all_finite, ensure_2d, allow_nd, multi_output, ensure_min_samples, ensure_min_features, y_numeric, estimator)\u001b[0m\n\u001b[1;32m    974\u001b[0m         \u001b[0mensure_min_samples\u001b[0m\u001b[0;34m=\u001b[0m\u001b[0mensure_min_samples\u001b[0m\u001b[0;34m,\u001b[0m\u001b[0;34m\u001b[0m\u001b[0;34m\u001b[0m\u001b[0m\n\u001b[1;32m    975\u001b[0m         \u001b[0mensure_min_features\u001b[0m\u001b[0;34m=\u001b[0m\u001b[0mensure_min_features\u001b[0m\u001b[0;34m,\u001b[0m\u001b[0;34m\u001b[0m\u001b[0;34m\u001b[0m\u001b[0m\n\u001b[0;32m--> 976\u001b[0;31m         \u001b[0mestimator\u001b[0m\u001b[0;34m=\u001b[0m\u001b[0mestimator\u001b[0m\u001b[0;34m,\u001b[0m\u001b[0;34m\u001b[0m\u001b[0;34m\u001b[0m\u001b[0m\n\u001b[0m\u001b[1;32m    977\u001b[0m     )\n\u001b[1;32m    978\u001b[0m \u001b[0;34m\u001b[0m\u001b[0m\n",
            "\u001b[0;32m/usr/local/lib/python3.7/dist-packages/sklearn/utils/validation.py\u001b[0m in \u001b[0;36mcheck_array\u001b[0;34m(array, accept_sparse, accept_large_sparse, dtype, order, copy, force_all_finite, ensure_2d, allow_nd, ensure_min_samples, ensure_min_features, estimator)\u001b[0m\n\u001b[1;32m    744\u001b[0m                     \u001b[0marray\u001b[0m \u001b[0;34m=\u001b[0m \u001b[0marray\u001b[0m\u001b[0;34m.\u001b[0m\u001b[0mastype\u001b[0m\u001b[0;34m(\u001b[0m\u001b[0mdtype\u001b[0m\u001b[0;34m,\u001b[0m \u001b[0mcasting\u001b[0m\u001b[0;34m=\u001b[0m\u001b[0;34m\"unsafe\"\u001b[0m\u001b[0;34m,\u001b[0m \u001b[0mcopy\u001b[0m\u001b[0;34m=\u001b[0m\u001b[0;32mFalse\u001b[0m\u001b[0;34m)\u001b[0m\u001b[0;34m\u001b[0m\u001b[0;34m\u001b[0m\u001b[0m\n\u001b[1;32m    745\u001b[0m                 \u001b[0;32melse\u001b[0m\u001b[0;34m:\u001b[0m\u001b[0;34m\u001b[0m\u001b[0;34m\u001b[0m\u001b[0m\n\u001b[0;32m--> 746\u001b[0;31m                     \u001b[0marray\u001b[0m \u001b[0;34m=\u001b[0m \u001b[0mnp\u001b[0m\u001b[0;34m.\u001b[0m\u001b[0masarray\u001b[0m\u001b[0;34m(\u001b[0m\u001b[0marray\u001b[0m\u001b[0;34m,\u001b[0m \u001b[0morder\u001b[0m\u001b[0;34m=\u001b[0m\u001b[0morder\u001b[0m\u001b[0;34m,\u001b[0m \u001b[0mdtype\u001b[0m\u001b[0;34m=\u001b[0m\u001b[0mdtype\u001b[0m\u001b[0;34m)\u001b[0m\u001b[0;34m\u001b[0m\u001b[0;34m\u001b[0m\u001b[0m\n\u001b[0m\u001b[1;32m    747\u001b[0m             \u001b[0;32mexcept\u001b[0m \u001b[0mComplexWarning\u001b[0m \u001b[0;32mas\u001b[0m \u001b[0mcomplex_warning\u001b[0m\u001b[0;34m:\u001b[0m\u001b[0;34m\u001b[0m\u001b[0;34m\u001b[0m\u001b[0m\n\u001b[1;32m    748\u001b[0m                 raise ValueError(\n",
            "\u001b[0;32m/usr/local/lib/python3.7/dist-packages/pandas/core/generic.py\u001b[0m in \u001b[0;36m__array__\u001b[0;34m(self, dtype)\u001b[0m\n\u001b[1;32m   1991\u001b[0m \u001b[0;34m\u001b[0m\u001b[0m\n\u001b[1;32m   1992\u001b[0m     \u001b[0;32mdef\u001b[0m \u001b[0m__array__\u001b[0m\u001b[0;34m(\u001b[0m\u001b[0mself\u001b[0m\u001b[0;34m,\u001b[0m \u001b[0mdtype\u001b[0m\u001b[0;34m:\u001b[0m \u001b[0mNpDtype\u001b[0m \u001b[0;34m|\u001b[0m \u001b[0;32mNone\u001b[0m \u001b[0;34m=\u001b[0m \u001b[0;32mNone\u001b[0m\u001b[0;34m)\u001b[0m \u001b[0;34m->\u001b[0m \u001b[0mnp\u001b[0m\u001b[0;34m.\u001b[0m\u001b[0mndarray\u001b[0m\u001b[0;34m:\u001b[0m\u001b[0;34m\u001b[0m\u001b[0;34m\u001b[0m\u001b[0m\n\u001b[0;32m-> 1993\u001b[0;31m         \u001b[0;32mreturn\u001b[0m \u001b[0mnp\u001b[0m\u001b[0;34m.\u001b[0m\u001b[0masarray\u001b[0m\u001b[0;34m(\u001b[0m\u001b[0mself\u001b[0m\u001b[0;34m.\u001b[0m\u001b[0m_values\u001b[0m\u001b[0;34m,\u001b[0m \u001b[0mdtype\u001b[0m\u001b[0;34m=\u001b[0m\u001b[0mdtype\u001b[0m\u001b[0;34m)\u001b[0m\u001b[0;34m\u001b[0m\u001b[0;34m\u001b[0m\u001b[0m\n\u001b[0m\u001b[1;32m   1994\u001b[0m \u001b[0;34m\u001b[0m\u001b[0m\n\u001b[1;32m   1995\u001b[0m     def __array_wrap__(\n",
            "\u001b[0;31mValueError\u001b[0m: could not convert string to float: 'SepalLengthCm'"
          ]
        }
      ]
    },
    {
      "cell_type": "markdown",
      "source": [
        "Pada iterasi 1, dilakukan evaluasi terhadap 1 fitur: {sepal-length}, {sepal-width}, {petal-length}, dan {petal\u0002width}. Diperoleh akurasi tertinggi adalah menggunakan fitur {petal-length} dengan akurasi = 1 (100%).\n",
        "\n",
        "Sehingga, iterasi kedua akan menggunakan kombinasi {petal-length} di tambah fitur lain \n",
        "\n",
        "Pada iterasi kedua, petal-length di tambah fitur lain, sehingga diperoleh kombinasi: {petal-length, sepal\u0002length}, {petal-length, sepal-width} dan {petal-length, petal-width}. Diperoleh akurasi tertinggi dengan \n",
        "menggunakan {petal-length, sepal-length} dengan akurasi = 1 (100%). \n",
        "\n",
        "Sehingga, iterasi ketiga akan menggunakan kombinasi fitur {petal-length, sepal-length} di tambah 1 fitur lainnya.\n",
        "\n",
        "Pada iterasi ketiga, diperoleh kombinasi fitur {petal-length, sepal-length, sepal-width} dan {petal-length, sepal-length, petal-width} dan akurasi tertinggi dicapai dengan kombinasi fitur {petal-length, sepal-length, sepal-width} dengan akurasi =1 (100%)\n",
        "\n",
        "Iterasi berikutnya merupakan full fitur (tidak di reduksi).\n"
      ],
      "metadata": {
        "id": "5WFwuP9gCjC4"
      }
    },
    {
      "cell_type": "markdown",
      "source": [
        "Soal Forward Selection: \n",
        "\n",
        "Dari hasil forward selection tersebut, dengan eksperimen menggunakan dataset iris, algoritma klasifikasi logistic regression, pembagian data train-test = 80-20. \n",
        "\n",
        "a. Berapa fitur yang dapat kita pakai? Fitur apa sajakah itu?\n",
        "\n",
        "b. Coba klasifikasikan data iris tersebut dengan fitur yang Anda sebutkan di poin a\n",
        "\n",
        "c. Bandingkan waktu komputasi dengan menggunakan seluruh fitur dengan klasifikasi pada poin b!"
      ],
      "metadata": {
        "id": "L676U0CxC8Sp"
      }
    },
    {
      "cell_type": "markdown",
      "source": [
        "# **Latihan Backward Selection**"
      ],
      "metadata": {
        "id": "YL55aFAHDC6T"
      }
    },
    {
      "cell_type": "markdown",
      "source": [
        "Dengan kasus yang sama, dan proses awal yang sama.. berikut code untuk backward selection (tanpa menerapkan kriteria penghentian iterasi/ di iterasi sampai akhir)\n",
        "\n",
        "Pertama kita inisiasi fitur awal, dimana semua fitur digunakan"
      ],
      "metadata": {
        "id": "JM-q9DYvDGGt"
      }
    },
    {
      "cell_type": "code",
      "source": [
        "i = 0 #untuk index penanda saja (tidak masuk algo)\n",
        "feature_set = list(df.columns) #inisiasi, fitur lengkap"
      ],
      "metadata": {
        "id": "XT8Z-29PDMG6"
      },
      "execution_count": 42,
      "outputs": []
    },
    {
      "cell_type": "markdown",
      "source": [
        "Kemudian backward selection (dalam code ini, tidak dilakukan penghentian iterasi untuk menunjukkan proses dan output lengkap setiap iterasi) sbb :\n"
      ],
      "metadata": {
        "id": "x9xkEg8LDfSy"
      }
    },
    {
      "cell_type": "code",
      "source": [
        "while (len(feature_set)>1):\n",
        "  #sekedar penanda iterasi\n",
        "  i = i+1\n",
        "  print('iterasi =', i)\n",
        "  #buat menyimpan percobaan sementara\n",
        "  metric_list = []\n",
        "  for feature in x_train.columns:\n",
        "    if feature not in feature_set:\n",
        "      f_set = feature_set.copy() #copy feature_set (supaya tidak berubah dulu feature_set nya)\n",
        "      f_set.remove(feature) #tambahkan fitur\n",
        "      print(f_set)\n",
        "      model.fit(x_train[f_set],y_train) #bangun (train) model dan fitur yang telah ditambah\n",
        "      uji = model.predict(x_test[f_set]) #test model\n",
        "      akurasi = accuracy_score(y_test, uji) # hitung akurasi\n",
        "      print(akurasi)\n",
        "      metric_list.append((akurasi, feature)) #menyimpan data akurasi dan fitur yang digunakan\n",
        "\n",
        "  metric_list.sort(key=lambda x:x[0], reverse=True) #dengan kasus bahwa semakin besar akurasi semakin baik, sort yang terbesar\n",
        "  feature_set.remove(metric_list[0][1]) #update feature set dengan menambahkan fitur dengan akurasi tertinggi(sorting teratas)\n"
      ],
      "metadata": {
        "colab": {
          "base_uri": "https://localhost:8080/",
          "height": 217
        },
        "id": "rfD1uk4UDiTO",
        "outputId": "189ce504-38a4-4541-dc34-7733554d569b"
      },
      "execution_count": 46,
      "outputs": [
        {
          "output_type": "stream",
          "name": "stdout",
          "text": [
            "iterasi = 2\n"
          ]
        },
        {
          "output_type": "error",
          "ename": "IndexError",
          "evalue": "ignored",
          "traceback": [
            "\u001b[0;31m---------------------------------------------------------------------------\u001b[0m",
            "\u001b[0;31mIndexError\u001b[0m                                Traceback (most recent call last)",
            "\u001b[0;32m<ipython-input-46-4da0064db792>\u001b[0m in \u001b[0;36m<module>\u001b[0;34m()\u001b[0m\n\u001b[1;32m     17\u001b[0m \u001b[0;34m\u001b[0m\u001b[0m\n\u001b[1;32m     18\u001b[0m   \u001b[0mmetric_list\u001b[0m\u001b[0;34m.\u001b[0m\u001b[0msort\u001b[0m\u001b[0;34m(\u001b[0m\u001b[0mkey\u001b[0m\u001b[0;34m=\u001b[0m\u001b[0;32mlambda\u001b[0m \u001b[0mx\u001b[0m\u001b[0;34m:\u001b[0m\u001b[0mx\u001b[0m\u001b[0;34m[\u001b[0m\u001b[0;36m0\u001b[0m\u001b[0;34m]\u001b[0m\u001b[0;34m,\u001b[0m \u001b[0mreverse\u001b[0m\u001b[0;34m=\u001b[0m\u001b[0;32mTrue\u001b[0m\u001b[0;34m)\u001b[0m \u001b[0;31m#dengan kasus bahwa semakin besar akurasi semakin baik, sort yang terbesar\u001b[0m\u001b[0;34m\u001b[0m\u001b[0;34m\u001b[0m\u001b[0m\n\u001b[0;32m---> 19\u001b[0;31m   \u001b[0mfeature_set\u001b[0m\u001b[0;34m.\u001b[0m\u001b[0mremove\u001b[0m\u001b[0;34m(\u001b[0m\u001b[0mmetric_list\u001b[0m\u001b[0;34m[\u001b[0m\u001b[0;36m0\u001b[0m\u001b[0;34m]\u001b[0m\u001b[0;34m[\u001b[0m\u001b[0;36m1\u001b[0m\u001b[0;34m]\u001b[0m\u001b[0;34m)\u001b[0m \u001b[0;31m#update feature set dengan menambahkan fitur dengan akurasi tertinggi(sorting teratas)\u001b[0m\u001b[0;34m\u001b[0m\u001b[0;34m\u001b[0m\u001b[0m\n\u001b[0m",
            "\u001b[0;31mIndexError\u001b[0m: list index out of range"
          ]
        }
      ]
    },
    {
      "cell_type": "markdown",
      "source": [
        "Inisiasi adalah seuruh fitur : {sepal-length, sepal-width, petal-length, petal-width}\n",
        "\n",
        "Pada iterasi 1, dilakukan penghapusan 1 fitur secara bergantian sehingga dilakukan evaluasi akrasi untuk penggunaan fitur-fitur sbb : , {sepal-width, petal-length, petal-width}, {sepal-length, petal-length, petal\u0002width}, {sepal-length, sepal-width, petal-width}, {sepal-length, sepal-width, petal-length} dan diperoleh hasil akurasi tertinggi dengan kombinasi fitur {sepal-length, sepal-width, petal-length} dengan akurasi =1 (100%). \n",
        "\n",
        "Maka pada iterasi selanjutnya akan menggunakan fitur-fitur ini.\n",
        "\n",
        "Pada ietrasi 2, dilakukan penghapusan fitur secara bergantian pada {sepal-length, sepal-width, petal-length} dan di evaluasi performanya, di peroleh kombinasi fitur : {sepal-width, petal-length}, {sepal-length, petal\u0002length}, {sepal-length, sepal-width} dengan akurasi tertinggi menggunakan fitur {sepal-length, petal-length} dengan akurasi = 1( 100%). \n",
        "\n",
        "Maka pada iterasi berikutnya akan memproses fitur-fitur ini.\n",
        "\n",
        "Pada iterasi 3, dilakukan penghapusan secara bergantian pada fitur {sepal-length, petal-length}, sehingga diperoleh fitur untuk evaluasi : {sepal-length}, {petal-length}. Setelah dilakukan trainng dan testing ternyata diperoleh akurasi tertinggi menggunakan fitur {petal-length} dengan akurasi =1 (100%).\n"
      ],
      "metadata": {
        "id": "aMRdbMclEQ3h"
      }
    },
    {
      "cell_type": "markdown",
      "source": [
        "Soal Backward Selection: \n",
        "\n",
        "Dari hasil backwar selection tersebut, dengan eksperimen menggunakan dataset iris, algoritma klasifikasi logistic regression, pembagian data train-test = 80-20. \n",
        "\n",
        "a. Berapa fitur yang dapat kita pakai? Fitur apa sajakah itu?\n",
        "\n",
        "b. Coba klasifikasikan data iris tersebut dengan fitur yang Anda sebutkan di poin a\n",
        "\n",
        "c. Bandingkan waktu komputasi dengan menggunakan seluruh fitur dengan klasifikasi pada poin b"
      ],
      "metadata": {
        "id": "hsQtNlXXEinn"
      }
    }
  ]
}