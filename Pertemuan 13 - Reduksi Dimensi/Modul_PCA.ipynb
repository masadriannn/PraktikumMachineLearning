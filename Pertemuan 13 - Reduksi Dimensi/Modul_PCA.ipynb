{
  "nbformat": 4,
  "nbformat_minor": 0,
  "metadata": {
    "colab": {
      "name": "Modul PCA",
      "provenance": [],
      "collapsed_sections": []
    },
    "kernelspec": {
      "name": "python3",
      "display_name": "Python 3"
    },
    "language_info": {
      "name": "python"
    }
  },
  "cells": [
    {
      "cell_type": "markdown",
      "source": [
        "Principal Component Analysis (PCA) dengan Python"
      ],
      "metadata": {
        "id": "0-1UY6bDzTSY"
      }
    },
    {
      "cell_type": "markdown",
      "source": [
        "a) Menggunakan numpy"
      ],
      "metadata": {
        "id": "zVl--7FBzamr"
      }
    },
    {
      "cell_type": "markdown",
      "source": [
        "- Import Library"
      ],
      "metadata": {
        "id": "CcJ2L_8fzceq"
      }
    },
    {
      "cell_type": "code",
      "execution_count": 1,
      "metadata": {
        "id": "_2bywKr5zST2"
      },
      "outputs": [],
      "source": [
        "from numpy import linalg as LA\n",
        "import numpy as np"
      ]
    },
    {
      "cell_type": "markdown",
      "source": [
        "- Membuat Dataset"
      ],
      "metadata": {
        "id": "If-pc52wzjR_"
      }
    },
    {
      "cell_type": "code",
      "source": [
        "data = np.array([[9,39],\n",
        "                [15, 56], \n",
        "                [25, 93], \n",
        "                [14, 61], \n",
        "                [10, 50], \n",
        "                [18, 75],\n",
        "                [0, 32],\n",
        "                [16, 85],\n",
        "                [5, 42],\n",
        "                [19, 70],\n",
        "                [16, 66],\n",
        "                [20, 80]])"
      ],
      "metadata": {
        "id": "JhC5sWvgzlh5"
      },
      "execution_count": 2,
      "outputs": []
    },
    {
      "cell_type": "markdown",
      "source": [
        "- Membuat matrix covariance"
      ],
      "metadata": {
        "id": "UW3l9yFWzzeF"
      }
    },
    {
      "cell_type": "code",
      "source": [
        "covMatX = np.cov(data.T);"
      ],
      "metadata": {
        "id": "FLkR3TKFz7Uz"
      },
      "execution_count": 3,
      "outputs": []
    },
    {
      "cell_type": "code",
      "source": [
        "covMatX"
      ],
      "metadata": {
        "colab": {
          "base_uri": "https://localhost:8080/"
        },
        "id": "rK-oz8AH0V8O",
        "outputId": "f870693d-ab43-4c70-8b72-258caed8ad8a"
      },
      "execution_count": 7,
      "outputs": [
        {
          "output_type": "execute_result",
          "data": {
            "text/plain": [
              "array([[ 47.71969697, 122.9469697 ],\n",
              "       [122.9469697 , 370.08333333]])"
            ]
          },
          "metadata": {},
          "execution_count": 7
        }
      ]
    },
    {
      "cell_type": "markdown",
      "source": [
        "- Menghitung eigenvector dan eigenvalue"
      ],
      "metadata": {
        "id": "Nym5DL-Y0Cd4"
      }
    },
    {
      "cell_type": "code",
      "source": [
        "eigenVal, eigenVec = LA.eig(covMatX)"
      ],
      "metadata": {
        "id": "vf9qY-Dz0GHK"
      },
      "execution_count": 4,
      "outputs": []
    },
    {
      "cell_type": "code",
      "source": [
        "eigenVal"
      ],
      "metadata": {
        "colab": {
          "base_uri": "https://localhost:8080/"
        },
        "id": "BvBXcy9X0QZA",
        "outputId": "13673243-c821-4518-e22e-4924e1ab6f9e"
      },
      "execution_count": 5,
      "outputs": [
        {
          "output_type": "execute_result",
          "data": {
            "text/plain": [
              "array([  6.18117609, 411.62185422])"
            ]
          },
          "metadata": {},
          "execution_count": 5
        }
      ]
    },
    {
      "cell_type": "code",
      "source": [
        "eigenVec"
      ],
      "metadata": {
        "colab": {
          "base_uri": "https://localhost:8080/"
        },
        "id": "Y9XdAyym0Skx",
        "outputId": "d3dd3da2-9a43-4d28-fab3-62f9b6568ef6"
      },
      "execution_count": 6,
      "outputs": [
        {
          "output_type": "execute_result",
          "data": {
            "text/plain": [
              "array([[-0.94738969, -0.32008244],\n",
              "       [ 0.32008244, -0.94738969]])"
            ]
          },
          "metadata": {},
          "execution_count": 6
        }
      ]
    },
    {
      "cell_type": "markdown",
      "source": [
        "- Menentukan eigenvector yang digunakan untuk mereduksi dimensi data"
      ],
      "metadata": {
        "id": "E5V0yGh-0agB"
      }
    },
    {
      "cell_type": "markdown",
      "source": [
        "- Urutkan dari eigenvalue terbesar ke eigenvalue terkecil"
      ],
      "metadata": {
        "id": "nEwSIhuj0gFN"
      }
    },
    {
      "cell_type": "markdown",
      "source": [
        "- Ambil eigenvector dengan eigenvalue = 411.622, karena nilai rasio sebesar 98,52%"
      ],
      "metadata": {
        "id": "qkRHy-J20kiF"
      }
    },
    {
      "cell_type": "code",
      "source": [
        "vector = eigenVec[:,1:2]"
      ],
      "metadata": {
        "id": "y75Jhqbu03eJ"
      },
      "execution_count": 8,
      "outputs": []
    },
    {
      "cell_type": "code",
      "source": [
        "vector"
      ],
      "metadata": {
        "colab": {
          "base_uri": "https://localhost:8080/"
        },
        "id": "FZgBeCq109QM",
        "outputId": "63e340e2-e1b9-4303-c2d2-0f9ae0130a9c"
      },
      "execution_count": 9,
      "outputs": [
        {
          "output_type": "execute_result",
          "data": {
            "text/plain": [
              "array([[-0.32008244],\n",
              "       [-0.94738969]])"
            ]
          },
          "metadata": {},
          "execution_count": 9
        }
      ]
    },
    {
      "cell_type": "markdown",
      "source": [
        "- Reduksi Dimensi"
      ],
      "metadata": {
        "id": "sfgyw09P0_cb"
      }
    },
    {
      "cell_type": "code",
      "source": [
        "dataNew = np.matmul(data, vector)"
      ],
      "metadata": {
        "id": "H8jiaBLe1Be4"
      },
      "execution_count": 10,
      "outputs": []
    },
    {
      "cell_type": "code",
      "source": [
        "dataNew"
      ],
      "metadata": {
        "colab": {
          "base_uri": "https://localhost:8080/"
        },
        "id": "6h7idYZL1ICt",
        "outputId": "d9075fb7-a609-4d0c-fe00-a66902636eff"
      },
      "execution_count": 11,
      "outputs": [
        {
          "output_type": "execute_result",
          "data": {
            "text/plain": [
              "array([[-39.82894   ],\n",
              "       [-57.85505943],\n",
              "       [-96.10930248],\n",
              "       [-62.27192545],\n",
              "       [-50.57030906],\n",
              "       [-76.81571091],\n",
              "       [-30.31647016],\n",
              "       [-85.64944295],\n",
              "       [-41.3907793 ],\n",
              "       [-72.3988449 ],\n",
              "       [-67.6490388 ],\n",
              "       [-82.19282426]])"
            ]
          },
          "metadata": {},
          "execution_count": 11
        }
      ]
    },
    {
      "cell_type": "markdown",
      "source": [
        "b) Menggunakan Sklearn"
      ],
      "metadata": {
        "id": "Z61bu5_q1Na8"
      }
    },
    {
      "cell_type": "markdown",
      "source": [
        "- Import Library"
      ],
      "metadata": {
        "id": "f3yrtlpl1QBE"
      }
    },
    {
      "cell_type": "code",
      "source": [
        "import numpy as np\n",
        "import pandas as pd\n",
        "from sklearn.decomposition import PCA"
      ],
      "metadata": {
        "id": "niHP76t41SHw"
      },
      "execution_count": 12,
      "outputs": []
    },
    {
      "cell_type": "markdown",
      "source": [
        "- Membuat Dataset"
      ],
      "metadata": {
        "id": "TdZHoQFh1Zi3"
      }
    },
    {
      "cell_type": "code",
      "source": [
        "data = np.array([[9, 39], \n",
        " [15, 56], \n",
        " [25, 93], \n",
        " [14, 61], \n",
        " [10, 50], \n",
        " [18, 75],\n",
        " [0, 32],\n",
        " [16, 85],\n",
        " [5, 42],\n",
        " [19, 70],\n",
        " [16, 66],\n",
        " [20, 80]])"
      ],
      "metadata": {
        "id": "Zh9i3J1n1bYe"
      },
      "execution_count": 13,
      "outputs": []
    },
    {
      "cell_type": "markdown",
      "source": [
        "- Proses PCA"
      ],
      "metadata": {
        "id": "AKFKCTMH1ekW"
      }
    },
    {
      "cell_type": "code",
      "source": [
        "pca = PCA(n_components=2)\n",
        "principalComponents = pca.fit_transform(data)"
      ],
      "metadata": {
        "id": "8-QXZ77F1fwJ"
      },
      "execution_count": 14,
      "outputs": []
    },
    {
      "cell_type": "markdown",
      "source": [
        "Melihat covariance matrix"
      ],
      "metadata": {
        "id": "RA2zeY_Q1pmC"
      }
    },
    {
      "cell_type": "code",
      "source": [
        "pca.get_covariance()"
      ],
      "metadata": {
        "colab": {
          "base_uri": "https://localhost:8080/"
        },
        "id": "nHvftcIR1tCi",
        "outputId": "d45701ec-4a52-411c-899b-fab3954ee695"
      },
      "execution_count": 15,
      "outputs": [
        {
          "output_type": "execute_result",
          "data": {
            "text/plain": [
              "array([[ 47.71969697, 122.9469697 ],\n",
              "       [122.9469697 , 370.08333333]])"
            ]
          },
          "metadata": {},
          "execution_count": 15
        }
      ]
    },
    {
      "cell_type": "markdown",
      "source": [
        "Melihat eigenvalue"
      ],
      "metadata": {
        "id": "tV24E-f21w3c"
      }
    },
    {
      "cell_type": "code",
      "source": [
        "pca.explained_variance_"
      ],
      "metadata": {
        "colab": {
          "base_uri": "https://localhost:8080/"
        },
        "id": "aAzmNiQN1zzo",
        "outputId": "57e95d2d-d0ea-48e5-a032-76d80d2fecc8"
      },
      "execution_count": 16,
      "outputs": [
        {
          "output_type": "execute_result",
          "data": {
            "text/plain": [
              "array([411.62185422,   6.18117609])"
            ]
          },
          "metadata": {},
          "execution_count": 16
        }
      ]
    },
    {
      "cell_type": "markdown",
      "source": [
        "Melihat eigenvector"
      ],
      "metadata": {
        "id": "lg1E069U15pp"
      }
    },
    {
      "cell_type": "code",
      "source": [
        "pca.components_"
      ],
      "metadata": {
        "colab": {
          "base_uri": "https://localhost:8080/"
        },
        "id": "rvWZxVIu1700",
        "outputId": "c00058e9-ac4c-48ab-9d32-94adc3d110e0"
      },
      "execution_count": 17,
      "outputs": [
        {
          "output_type": "execute_result",
          "data": {
            "text/plain": [
              "array([[-0.32008244, -0.94738969],\n",
              "       [-0.94738969,  0.32008244]])"
            ]
          },
          "metadata": {},
          "execution_count": 17
        }
      ]
    },
    {
      "cell_type": "markdown",
      "source": [
        "Melihat variance ratio"
      ],
      "metadata": {
        "id": "z9bHPV4B2AFS"
      }
    },
    {
      "cell_type": "code",
      "source": [
        "pca.explained_variance_ratio_"
      ],
      "metadata": {
        "colab": {
          "base_uri": "https://localhost:8080/"
        },
        "id": "gQPdgGKo2C4w",
        "outputId": "5a85cd78-2590-4848-ab1d-5d5df246656f"
      },
      "execution_count": 18,
      "outputs": [
        {
          "output_type": "execute_result",
          "data": {
            "text/plain": [
              "array([0.98520553, 0.01479447])"
            ]
          },
          "metadata": {},
          "execution_count": 18
        }
      ]
    },
    {
      "cell_type": "markdown",
      "source": [
        "Dari variance ratio dapat menentukan penentuan Principal \n",
        "Components (PC) dalam reduksi dimensi.\n",
        "\n",
        "Nilai variance ratio pertama = 0.98520553, artinya jika kita \n",
        "hanya mengambil satu vector pertama saja, ciri yang didapatkan \n",
        "adalah sebesar 98,5%"
      ],
      "metadata": {
        "id": "ZVI-gZHk2LPK"
      }
    },
    {
      "cell_type": "markdown",
      "source": [
        "Proses PCA"
      ],
      "metadata": {
        "id": "Hy9GpfqT2OB4"
      }
    },
    {
      "cell_type": "markdown",
      "source": [
        "Dari proses sebelumnya maka kita ambil 1 komponen saja, dapat dilihat pada code berikut.\n"
      ],
      "metadata": {
        "id": "6cJGKFd32SOQ"
      }
    },
    {
      "cell_type": "code",
      "source": [
        "pca = PCA(n_components=1)\n",
        "principalComponents = pca.fit_transform(data)\n",
        "principalDf = pd.DataFrame(data = principalComponents, columns=['principal component 1'])\n",
        "display(principalDf)"
      ],
      "metadata": {
        "colab": {
          "base_uri": "https://localhost:8080/",
          "height": 426
        },
        "id": "Fe6Jmzas2P-Y",
        "outputId": "b82d5d09-b38a-46bf-cb01-274ed9757051"
      },
      "execution_count": 21,
      "outputs": [
        {
          "output_type": "display_data",
          "data": {
            "text/plain": [
              "    principal component 1\n",
              "0               23.758447\n",
              "1                5.732328\n",
              "2              -32.521915\n",
              "3                1.315462\n",
              "4               13.017078\n",
              "5              -13.228324\n",
              "6               33.270917\n",
              "7              -22.062056\n",
              "8               22.196608\n",
              "9               -8.811458\n",
              "10              -4.061651\n",
              "11             -18.605437"
            ],
            "text/html": [
              "\n",
              "  <div id=\"df-9d3b9aed-b7b6-4b06-8c2e-4f984a1c85ff\">\n",
              "    <div class=\"colab-df-container\">\n",
              "      <div>\n",
              "<style scoped>\n",
              "    .dataframe tbody tr th:only-of-type {\n",
              "        vertical-align: middle;\n",
              "    }\n",
              "\n",
              "    .dataframe tbody tr th {\n",
              "        vertical-align: top;\n",
              "    }\n",
              "\n",
              "    .dataframe thead th {\n",
              "        text-align: right;\n",
              "    }\n",
              "</style>\n",
              "<table border=\"1\" class=\"dataframe\">\n",
              "  <thead>\n",
              "    <tr style=\"text-align: right;\">\n",
              "      <th></th>\n",
              "      <th>principal component 1</th>\n",
              "    </tr>\n",
              "  </thead>\n",
              "  <tbody>\n",
              "    <tr>\n",
              "      <th>0</th>\n",
              "      <td>23.758447</td>\n",
              "    </tr>\n",
              "    <tr>\n",
              "      <th>1</th>\n",
              "      <td>5.732328</td>\n",
              "    </tr>\n",
              "    <tr>\n",
              "      <th>2</th>\n",
              "      <td>-32.521915</td>\n",
              "    </tr>\n",
              "    <tr>\n",
              "      <th>3</th>\n",
              "      <td>1.315462</td>\n",
              "    </tr>\n",
              "    <tr>\n",
              "      <th>4</th>\n",
              "      <td>13.017078</td>\n",
              "    </tr>\n",
              "    <tr>\n",
              "      <th>5</th>\n",
              "      <td>-13.228324</td>\n",
              "    </tr>\n",
              "    <tr>\n",
              "      <th>6</th>\n",
              "      <td>33.270917</td>\n",
              "    </tr>\n",
              "    <tr>\n",
              "      <th>7</th>\n",
              "      <td>-22.062056</td>\n",
              "    </tr>\n",
              "    <tr>\n",
              "      <th>8</th>\n",
              "      <td>22.196608</td>\n",
              "    </tr>\n",
              "    <tr>\n",
              "      <th>9</th>\n",
              "      <td>-8.811458</td>\n",
              "    </tr>\n",
              "    <tr>\n",
              "      <th>10</th>\n",
              "      <td>-4.061651</td>\n",
              "    </tr>\n",
              "    <tr>\n",
              "      <th>11</th>\n",
              "      <td>-18.605437</td>\n",
              "    </tr>\n",
              "  </tbody>\n",
              "</table>\n",
              "</div>\n",
              "      <button class=\"colab-df-convert\" onclick=\"convertToInteractive('df-9d3b9aed-b7b6-4b06-8c2e-4f984a1c85ff')\"\n",
              "              title=\"Convert this dataframe to an interactive table.\"\n",
              "              style=\"display:none;\">\n",
              "        \n",
              "  <svg xmlns=\"http://www.w3.org/2000/svg\" height=\"24px\"viewBox=\"0 0 24 24\"\n",
              "       width=\"24px\">\n",
              "    <path d=\"M0 0h24v24H0V0z\" fill=\"none\"/>\n",
              "    <path d=\"M18.56 5.44l.94 2.06.94-2.06 2.06-.94-2.06-.94-.94-2.06-.94 2.06-2.06.94zm-11 1L8.5 8.5l.94-2.06 2.06-.94-2.06-.94L8.5 2.5l-.94 2.06-2.06.94zm10 10l.94 2.06.94-2.06 2.06-.94-2.06-.94-.94-2.06-.94 2.06-2.06.94z\"/><path d=\"M17.41 7.96l-1.37-1.37c-.4-.4-.92-.59-1.43-.59-.52 0-1.04.2-1.43.59L10.3 9.45l-7.72 7.72c-.78.78-.78 2.05 0 2.83L4 21.41c.39.39.9.59 1.41.59.51 0 1.02-.2 1.41-.59l7.78-7.78 2.81-2.81c.8-.78.8-2.07 0-2.86zM5.41 20L4 18.59l7.72-7.72 1.47 1.35L5.41 20z\"/>\n",
              "  </svg>\n",
              "      </button>\n",
              "      \n",
              "  <style>\n",
              "    .colab-df-container {\n",
              "      display:flex;\n",
              "      flex-wrap:wrap;\n",
              "      gap: 12px;\n",
              "    }\n",
              "\n",
              "    .colab-df-convert {\n",
              "      background-color: #E8F0FE;\n",
              "      border: none;\n",
              "      border-radius: 50%;\n",
              "      cursor: pointer;\n",
              "      display: none;\n",
              "      fill: #1967D2;\n",
              "      height: 32px;\n",
              "      padding: 0 0 0 0;\n",
              "      width: 32px;\n",
              "    }\n",
              "\n",
              "    .colab-df-convert:hover {\n",
              "      background-color: #E2EBFA;\n",
              "      box-shadow: 0px 1px 2px rgba(60, 64, 67, 0.3), 0px 1px 3px 1px rgba(60, 64, 67, 0.15);\n",
              "      fill: #174EA6;\n",
              "    }\n",
              "\n",
              "    [theme=dark] .colab-df-convert {\n",
              "      background-color: #3B4455;\n",
              "      fill: #D2E3FC;\n",
              "    }\n",
              "\n",
              "    [theme=dark] .colab-df-convert:hover {\n",
              "      background-color: #434B5C;\n",
              "      box-shadow: 0px 1px 3px 1px rgba(0, 0, 0, 0.15);\n",
              "      filter: drop-shadow(0px 1px 2px rgba(0, 0, 0, 0.3));\n",
              "      fill: #FFFFFF;\n",
              "    }\n",
              "  </style>\n",
              "\n",
              "      <script>\n",
              "        const buttonEl =\n",
              "          document.querySelector('#df-9d3b9aed-b7b6-4b06-8c2e-4f984a1c85ff button.colab-df-convert');\n",
              "        buttonEl.style.display =\n",
              "          google.colab.kernel.accessAllowed ? 'block' : 'none';\n",
              "\n",
              "        async function convertToInteractive(key) {\n",
              "          const element = document.querySelector('#df-9d3b9aed-b7b6-4b06-8c2e-4f984a1c85ff');\n",
              "          const dataTable =\n",
              "            await google.colab.kernel.invokeFunction('convertToInteractive',\n",
              "                                                     [key], {});\n",
              "          if (!dataTable) return;\n",
              "\n",
              "          const docLinkHtml = 'Like what you see? Visit the ' +\n",
              "            '<a target=\"_blank\" href=https://colab.research.google.com/notebooks/data_table.ipynb>data table notebook</a>'\n",
              "            + ' to learn more about interactive tables.';\n",
              "          element.innerHTML = '';\n",
              "          dataTable['output_type'] = 'display_data';\n",
              "          await google.colab.output.renderOutput(dataTable, element);\n",
              "          const docLink = document.createElement('div');\n",
              "          docLink.innerHTML = docLinkHtml;\n",
              "          element.appendChild(docLink);\n",
              "        }\n",
              "      </script>\n",
              "    </div>\n",
              "  </div>\n",
              "  "
            ]
          },
          "metadata": {}
        }
      ]
    },
    {
      "cell_type": "markdown",
      "source": [
        "**Latihan**"
      ],
      "metadata": {
        "id": "82TUC9QJ2ugU"
      }
    },
    {
      "cell_type": "markdown",
      "source": [
        "Dataset breast-cancer yang diambil dari situs https://www.kaggle.com/uciml/breast-cancer-wisconsin-data, memiliki 2 kelas yaitu kelas M = malignant (ganas), B = benign (jinak) dan memiliki 30 fitur.\n",
        "\n",
        "a. Lakukan klasifikasi dengan SVM terhadap dataset breast-cancer.\n",
        "\n",
        "b. Evaluasi klasifikasi dengan cross validation. \n",
        "\n",
        "c. Lakukan normalisasi data.\n",
        "\n",
        "d. Hitung overall akurasi dengan menggunakan seluruh fitur tanpa menggunakan PCA.\n",
        "\n",
        "e. Hitung overall akurasi dengan menggunakan reduksi dimensi mengunakan PCA."
      ],
      "metadata": {
        "id": "-HII3u6T2xv0"
      }
    },
    {
      "cell_type": "markdown",
      "source": [
        "Jawab"
      ],
      "metadata": {
        "id": "-i_CA_pX2_QH"
      }
    },
    {
      "cell_type": "markdown",
      "source": [
        "- Import Library"
      ],
      "metadata": {
        "id": "dUWrIst_3AlR"
      }
    },
    {
      "cell_type": "code",
      "source": [
        "import numpy as np\n",
        "import pandas as pd\n",
        "from sklearn.decomposition import PCA\n",
        "from sklearn.preprocessing import MinMaxScaler\n",
        "from sklearn import svm\n",
        "from sklearn.model_selection import cross_val_score"
      ],
      "metadata": {
        "id": "flfNeDoK3DnN"
      },
      "execution_count": 22,
      "outputs": []
    },
    {
      "cell_type": "markdown",
      "source": [
        "- Baca Data dan Pisahkan Data (X) dengan target (y)"
      ],
      "metadata": {
        "id": "jtU0Hhg93q16"
      }
    },
    {
      "cell_type": "code",
      "source": [
        "df = pd.read_csv('data.csv')\n",
        "\n",
        "features = ['radius_mean','texture_mean','perimeter_mean','area_mean','smoothness_mean',\n",
        " 'compactness_mean','concavity_mean','concave points_mean','symmetry_mean',\n",
        " 'fractal_dimension_mean','radius_se','texture_se','perimeter_se','area_se',\n",
        " 'smoothness_se','compactness_se','concavity_se','concave points_se',\n",
        " 'symmetry_se', 'fractal_dimension_se','radius_worst','texture_worst','perimeter_worst','area_worst',\n",
        " 'smoothness_worst','compactness_worst','concavity_worst','concave points_worst',\n",
        " 'symmetry_worst','fractal_dimension_worst']\n",
        "\n",
        "X = df.loc[:,features].values\n",
        "y = df.loc[:,['diagnosis']].values"
      ],
      "metadata": {
        "id": "NzinnsnQ3vuh"
      },
      "execution_count": 26,
      "outputs": []
    },
    {
      "cell_type": "markdown",
      "source": [
        "- Normalisasi data dengan menggunakan min-max"
      ],
      "metadata": {
        "id": "w8wKlmGy4eTU"
      }
    },
    {
      "cell_type": "code",
      "source": [
        "sc = MinMaxScaler(feature_range=(0,1))\n",
        "X = sc.fit_transform(X)"
      ],
      "metadata": {
        "id": "UdD9FCcL4hpN"
      },
      "execution_count": 27,
      "outputs": []
    },
    {
      "cell_type": "markdown",
      "source": [
        "- Klasifikasi SVM menggunakan seluruh data dengan seluruh fitur tanpa reduksi dimensi."
      ],
      "metadata": {
        "id": "l-IXrc5l4vNj"
      }
    },
    {
      "cell_type": "code",
      "source": [
        "clf = svm.SVC(kernel='linear',C=1)\n",
        "scores = cross_val_score(clf,X,y,cv=5)\n",
        "print(\"Accuracy: %0.2f%\", (scores.mean()))"
      ],
      "metadata": {
        "colab": {
          "base_uri": "https://localhost:8080/"
        },
        "id": "a0fVqLh141nq",
        "outputId": "683ade41-d9f8-41d5-8c4b-2bdaae91a562"
      },
      "execution_count": 29,
      "outputs": [
        {
          "output_type": "stream",
          "name": "stdout",
          "text": [
            "Accuracy: %0.2f% 0.9754075454122031\n"
          ]
        },
        {
          "output_type": "stream",
          "name": "stderr",
          "text": [
            "/usr/local/lib/python3.7/dist-packages/sklearn/utils/validation.py:993: DataConversionWarning: A column-vector y was passed when a 1d array was expected. Please change the shape of y to (n_samples, ), for example using ravel().\n",
            "  y = column_or_1d(y, warn=True)\n",
            "/usr/local/lib/python3.7/dist-packages/sklearn/utils/validation.py:993: DataConversionWarning: A column-vector y was passed when a 1d array was expected. Please change the shape of y to (n_samples, ), for example using ravel().\n",
            "  y = column_or_1d(y, warn=True)\n",
            "/usr/local/lib/python3.7/dist-packages/sklearn/utils/validation.py:993: DataConversionWarning: A column-vector y was passed when a 1d array was expected. Please change the shape of y to (n_samples, ), for example using ravel().\n",
            "  y = column_or_1d(y, warn=True)\n",
            "/usr/local/lib/python3.7/dist-packages/sklearn/utils/validation.py:993: DataConversionWarning: A column-vector y was passed when a 1d array was expected. Please change the shape of y to (n_samples, ), for example using ravel().\n",
            "  y = column_or_1d(y, warn=True)\n",
            "/usr/local/lib/python3.7/dist-packages/sklearn/utils/validation.py:993: DataConversionWarning: A column-vector y was passed when a 1d array was expected. Please change the shape of y to (n_samples, ), for example using ravel().\n",
            "  y = column_or_1d(y, warn=True)\n"
          ]
        }
      ]
    },
    {
      "cell_type": "markdown",
      "source": [
        "- Reduksi dimensi menggunakan PCA"
      ],
      "metadata": {
        "id": "ZeBS-VNs5UOc"
      }
    },
    {
      "cell_type": "code",
      "source": [
        "pca = PCA(n_components=30)\n",
        "principalComponents = pca.fit_transform(X)\n",
        "variance_ratio = pca.explained_variance_ratio_"
      ],
      "metadata": {
        "id": "I9WJ9Szi5WaI"
      },
      "execution_count": 30,
      "outputs": []
    },
    {
      "cell_type": "code",
      "source": [
        "variance_ratio"
      ],
      "metadata": {
        "colab": {
          "base_uri": "https://localhost:8080/"
        },
        "id": "d_4Q4eOO5lPJ",
        "outputId": "04431815-edc4-415e-d537-b86b4b2b6075"
      },
      "execution_count": 31,
      "outputs": [
        {
          "output_type": "execute_result",
          "data": {
            "text/plain": [
              "array([5.30976894e-01, 1.72834896e-01, 7.11444201e-02, 6.41125883e-02,\n",
              "       4.08607204e-02, 3.07149442e-02, 1.58083746e-02, 1.19147161e-02,\n",
              "       9.88429103e-03, 9.45446106e-03, 8.49396551e-03, 7.57976457e-03,\n",
              "       6.56638137e-03, 4.74811462e-03, 2.69423338e-03, 2.57754484e-03,\n",
              "       1.83755588e-03, 1.51271660e-03, 1.37718463e-03, 1.05959242e-03,\n",
              "       9.83061040e-04, 7.84496266e-04, 5.28060046e-04, 5.09986666e-04,\n",
              "       4.30073326e-04, 3.29617326e-04, 1.90574049e-04, 5.59104265e-05,\n",
              "       2.88966877e-05, 5.96453235e-06])"
            ]
          },
          "metadata": {},
          "execution_count": 31
        }
      ]
    },
    {
      "cell_type": "markdown",
      "source": [
        "- Dengan 3 PC"
      ],
      "metadata": {
        "id": "iIs3InMR5rf9"
      }
    },
    {
      "cell_type": "code",
      "source": [
        "pca = PCA(n_components=3)\n",
        "principalComponents = pca.fit_transform(X)\n",
        "variance_ratio = pca.explained_variance_ratio_\n",
        "\n",
        "clf = svm.SVC(kernel='linear',C=1)\n",
        "scores = cross_val_score(clf,principalComponents,y,cv=5)\n",
        "print(\"Accuracy: %0.2f%\", (scores.mean()))"
      ],
      "metadata": {
        "colab": {
          "base_uri": "https://localhost:8080/"
        },
        "id": "kI_xoHIb5s3g",
        "outputId": "2428ea76-0819-42e5-d21b-4f0ce515fadf"
      },
      "execution_count": 34,
      "outputs": [
        {
          "output_type": "stream",
          "name": "stdout",
          "text": [
            "Accuracy: %0.2f% 0.9578481602235678\n"
          ]
        },
        {
          "output_type": "stream",
          "name": "stderr",
          "text": [
            "/usr/local/lib/python3.7/dist-packages/sklearn/utils/validation.py:993: DataConversionWarning: A column-vector y was passed when a 1d array was expected. Please change the shape of y to (n_samples, ), for example using ravel().\n",
            "  y = column_or_1d(y, warn=True)\n",
            "/usr/local/lib/python3.7/dist-packages/sklearn/utils/validation.py:993: DataConversionWarning: A column-vector y was passed when a 1d array was expected. Please change the shape of y to (n_samples, ), for example using ravel().\n",
            "  y = column_or_1d(y, warn=True)\n",
            "/usr/local/lib/python3.7/dist-packages/sklearn/utils/validation.py:993: DataConversionWarning: A column-vector y was passed when a 1d array was expected. Please change the shape of y to (n_samples, ), for example using ravel().\n",
            "  y = column_or_1d(y, warn=True)\n",
            "/usr/local/lib/python3.7/dist-packages/sklearn/utils/validation.py:993: DataConversionWarning: A column-vector y was passed when a 1d array was expected. Please change the shape of y to (n_samples, ), for example using ravel().\n",
            "  y = column_or_1d(y, warn=True)\n",
            "/usr/local/lib/python3.7/dist-packages/sklearn/utils/validation.py:993: DataConversionWarning: A column-vector y was passed when a 1d array was expected. Please change the shape of y to (n_samples, ), for example using ravel().\n",
            "  y = column_or_1d(y, warn=True)\n"
          ]
        }
      ]
    },
    {
      "cell_type": "markdown",
      "source": [
        "- Dengan 5 PC"
      ],
      "metadata": {
        "id": "J_4spmq555dJ"
      }
    },
    {
      "cell_type": "code",
      "source": [
        "pca = PCA(n_components=5)\n",
        "principalComponents = pca.fit_transform(X)\n",
        "variance_ratio = pca.explained_variance_ratio_\n",
        "\n",
        "clf = svm.SVC(kernel='linear',C=1)\n",
        "scores = cross_val_score(clf,principalComponents,y,cv=5)\n",
        "print(\"Accuracy: %0.2f%\", (scores.mean()))"
      ],
      "metadata": {
        "colab": {
          "base_uri": "https://localhost:8080/"
        },
        "id": "l0lMz0Gz563k",
        "outputId": "4f4b0d41-dffa-4e74-f7ba-99582f3ce459"
      },
      "execution_count": 35,
      "outputs": [
        {
          "output_type": "stream",
          "name": "stdout",
          "text": [
            "Accuracy: %0.2f% 0.9736531594472908\n"
          ]
        },
        {
          "output_type": "stream",
          "name": "stderr",
          "text": [
            "/usr/local/lib/python3.7/dist-packages/sklearn/utils/validation.py:993: DataConversionWarning: A column-vector y was passed when a 1d array was expected. Please change the shape of y to (n_samples, ), for example using ravel().\n",
            "  y = column_or_1d(y, warn=True)\n",
            "/usr/local/lib/python3.7/dist-packages/sklearn/utils/validation.py:993: DataConversionWarning: A column-vector y was passed when a 1d array was expected. Please change the shape of y to (n_samples, ), for example using ravel().\n",
            "  y = column_or_1d(y, warn=True)\n",
            "/usr/local/lib/python3.7/dist-packages/sklearn/utils/validation.py:993: DataConversionWarning: A column-vector y was passed when a 1d array was expected. Please change the shape of y to (n_samples, ), for example using ravel().\n",
            "  y = column_or_1d(y, warn=True)\n",
            "/usr/local/lib/python3.7/dist-packages/sklearn/utils/validation.py:993: DataConversionWarning: A column-vector y was passed when a 1d array was expected. Please change the shape of y to (n_samples, ), for example using ravel().\n",
            "  y = column_or_1d(y, warn=True)\n",
            "/usr/local/lib/python3.7/dist-packages/sklearn/utils/validation.py:993: DataConversionWarning: A column-vector y was passed when a 1d array was expected. Please change the shape of y to (n_samples, ), for example using ravel().\n",
            "  y = column_or_1d(y, warn=True)\n"
          ]
        }
      ]
    },
    {
      "cell_type": "markdown",
      "source": [
        "- Dengan 10 PC"
      ],
      "metadata": {
        "id": "g2XvZKRz6TMw"
      }
    },
    {
      "cell_type": "code",
      "source": [
        "pca = PCA(n_components=10)\n",
        "principalComponents = pca.fit_transform(X)\n",
        "variance_ratio = pca.explained_variance_ratio_\n",
        "\n",
        "clf = svm.SVC(kernel='linear',C=1)\n",
        "scores = cross_val_score(clf,principalComponents,y,cv=5)\n",
        "print(\"Accuracy: %0.2f%\", (scores.mean()))"
      ],
      "metadata": {
        "colab": {
          "base_uri": "https://localhost:8080/"
        },
        "id": "DuvYfZ8H6Vcw",
        "outputId": "0ef5d0e5-427e-4e7b-8ae8-9f8e842d24f1"
      },
      "execution_count": 36,
      "outputs": [
        {
          "output_type": "stream",
          "name": "stdout",
          "text": [
            "Accuracy: %0.2f% 0.9771619313771154\n"
          ]
        },
        {
          "output_type": "stream",
          "name": "stderr",
          "text": [
            "/usr/local/lib/python3.7/dist-packages/sklearn/utils/validation.py:993: DataConversionWarning: A column-vector y was passed when a 1d array was expected. Please change the shape of y to (n_samples, ), for example using ravel().\n",
            "  y = column_or_1d(y, warn=True)\n",
            "/usr/local/lib/python3.7/dist-packages/sklearn/utils/validation.py:993: DataConversionWarning: A column-vector y was passed when a 1d array was expected. Please change the shape of y to (n_samples, ), for example using ravel().\n",
            "  y = column_or_1d(y, warn=True)\n",
            "/usr/local/lib/python3.7/dist-packages/sklearn/utils/validation.py:993: DataConversionWarning: A column-vector y was passed when a 1d array was expected. Please change the shape of y to (n_samples, ), for example using ravel().\n",
            "  y = column_or_1d(y, warn=True)\n",
            "/usr/local/lib/python3.7/dist-packages/sklearn/utils/validation.py:993: DataConversionWarning: A column-vector y was passed when a 1d array was expected. Please change the shape of y to (n_samples, ), for example using ravel().\n",
            "  y = column_or_1d(y, warn=True)\n",
            "/usr/local/lib/python3.7/dist-packages/sklearn/utils/validation.py:993: DataConversionWarning: A column-vector y was passed when a 1d array was expected. Please change the shape of y to (n_samples, ), for example using ravel().\n",
            "  y = column_or_1d(y, warn=True)\n"
          ]
        }
      ]
    },
    {
      "cell_type": "markdown",
      "source": [
        "Dari percobaan di atas, kita dapat melihat bahwa hanya dengan tiga dimensi saja akurasi sudah mendekati dengan menggunakan seluruh fitur (30 dimensi). Dan dengan 10 dimensi telah dapat menyamai akurasi dengan menggunakan seluruh fitur (30 dimensi)"
      ],
      "metadata": {
        "id": "m8XzTOsU6c3L"
      }
    }
  ]
}